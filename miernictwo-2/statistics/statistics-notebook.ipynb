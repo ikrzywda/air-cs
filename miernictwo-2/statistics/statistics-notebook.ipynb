{
 "cells": [
  {
   "cell_type": "code",
   "execution_count": 35,
   "metadata": {},
   "outputs": [],
   "source": [
    "from pathlib import Path\n",
    "from typing import List\n",
    "\n",
    "import numpy as np\n",
    "import pandas as pd\n",
    "from IPython.display import Markdown, display\n",
    "\n",
    "from wrappers import *\n",
    "\n",
    "pd.options.mode.copy_on_write = True"
   ]
  },
  {
   "attachments": {},
   "cell_type": "markdown",
   "metadata": {},
   "source": [
    "# Uruchomienie notebooka lokalnie\n",
    "\n",
    "```bash\n",
    "git clone https://github.com/ikrzywda/air-cs.git\n",
    "cd air-cs/miernictwo-2/statistics\n",
    "pip install -r requirements.txt\n",
    "jupyter notebook \n",
    "```"
   ]
  },
  {
   "cell_type": "code",
   "execution_count": 36,
   "metadata": {},
   "outputs": [],
   "source": [
    "def display_table_as_markdown_with_headers(df: pd.DataFrame, headers: List[str]):\n",
    "    dataframe = df.copy()\n",
    "    dataframe.columns = headers\n",
    "\n",
    "    # Round float columns to a specific number of decimal places\n",
    "    float_columns = dataframe.select_dtypes(include=\"float\").columns\n",
    "    dataframe[float_columns] = dataframe[float_columns].round(\n",
    "        2\n",
    "    )  # Change the decimal places as per your requirement\n",
    "\n",
    "    markdown_table = dataframe.to_markdown()\n",
    "    display(Markdown(markdown_table))"
   ]
  },
  {
   "cell_type": "code",
   "execution_count": 37,
   "metadata": {},
   "outputs": [],
   "source": [
    "TRIANGLE_MEASUREMENTS_PATH = Path(\"triangle-measurements-data.csv\")\n",
    "assert TRIANGLE_MEASUREMENTS_PATH.exists()"
   ]
  },
  {
   "attachments": {},
   "cell_type": "markdown",
   "metadata": {},
   "source": [
    "# Pomiary boków\n",
    "\n",
    "## Wykorzystywane wzory\n",
    "\n",
    "* srednia arytmetyczna\n",
    "  $$\\frac{1}{n}\\sum_{i=1}^{n} a_i$$\n",
    "\n",
    "* odchylenie standardowe $\\sigma$:\n",
    "  $$\\sqrt{\\frac{1}{n-1} \\sum_{i=1}^n (a_i - \\bar{a})^2}$$\n",
    "\n",
    "* $s_{\\bar{a}}$ = $u(\\bar{a})$ : sem, niepewność standardowa estymowana odchyleniem standardowym średniej\n",
    "  $$\\frac{\\sigma}{\\sqrt{n}}$$\n",
    "\n",
    "* niepewność rozszerzona $\\Delta_p \\bar{x}$\n",
    "  $$t_{n,a} \\cdot s_{\\bar{a}}$$\n",
    "    gdzie $$t_{n,a}$$ odczytuje sie z tabelki\n",
    "    $x$ : rozpatrywany bok\n",
    "\n",
    "* $u(a)$ : niepewność standardowa całkowita\n",
    "  $$\\sqrt{\\left(\\frac{\\sigma^2}{\\sqrt{n-1}}\\right)^2 + \\left(\\frac{dx}{\\sqrt{3}}\\right)^2}$$\n",
    "    $dx$ :  dokladnosc suwmiarki ($0.05mm$)\n",
    "\n",
    "* przedział ufności\n",
    "  $$x \\pm \\Delta_p \\bar{x}$$\n"
   ]
  },
  {
   "cell_type": "code",
   "execution_count": 38,
   "metadata": {},
   "outputs": [
    {
     "data": {
      "text/html": [
       "<div>\n",
       "<style scoped>\n",
       "    .dataframe tbody tr th:only-of-type {\n",
       "        vertical-align: middle;\n",
       "    }\n",
       "\n",
       "    .dataframe tbody tr th {\n",
       "        vertical-align: top;\n",
       "    }\n",
       "\n",
       "    .dataframe thead th {\n",
       "        text-align: right;\n",
       "    }\n",
       "</style>\n",
       "<table border=\"1\" class=\"dataframe\">\n",
       "  <thead>\n",
       "    <tr style=\"text-align: right;\">\n",
       "      <th></th>\n",
       "      <th>a</th>\n",
       "      <th>b</th>\n",
       "      <th>c</th>\n",
       "      <th>ha</th>\n",
       "      <th>hb</th>\n",
       "      <th>hc</th>\n",
       "    </tr>\n",
       "  </thead>\n",
       "  <tbody>\n",
       "    <tr>\n",
       "      <th>0</th>\n",
       "      <td>91.10</td>\n",
       "      <td>81.30</td>\n",
       "      <td>74.30</td>\n",
       "      <td>63.50</td>\n",
       "      <td>70.90</td>\n",
       "      <td>77.35</td>\n",
       "    </tr>\n",
       "    <tr>\n",
       "      <th>1</th>\n",
       "      <td>91.20</td>\n",
       "      <td>81.35</td>\n",
       "      <td>74.25</td>\n",
       "      <td>63.00</td>\n",
       "      <td>71.00</td>\n",
       "      <td>77.50</td>\n",
       "    </tr>\n",
       "    <tr>\n",
       "      <th>2</th>\n",
       "      <td>90.90</td>\n",
       "      <td>81.15</td>\n",
       "      <td>74.20</td>\n",
       "      <td>63.25</td>\n",
       "      <td>70.90</td>\n",
       "      <td>77.60</td>\n",
       "    </tr>\n",
       "    <tr>\n",
       "      <th>3</th>\n",
       "      <td>91.10</td>\n",
       "      <td>81.15</td>\n",
       "      <td>74.30</td>\n",
       "      <td>63.50</td>\n",
       "      <td>71.90</td>\n",
       "      <td>77.30</td>\n",
       "    </tr>\n",
       "    <tr>\n",
       "      <th>4</th>\n",
       "      <td>91.20</td>\n",
       "      <td>81.30</td>\n",
       "      <td>74.30</td>\n",
       "      <td>63.40</td>\n",
       "      <td>71.40</td>\n",
       "      <td>77.60</td>\n",
       "    </tr>\n",
       "    <tr>\n",
       "      <th>5</th>\n",
       "      <td>90.75</td>\n",
       "      <td>80.90</td>\n",
       "      <td>74.10</td>\n",
       "      <td>63.70</td>\n",
       "      <td>70.70</td>\n",
       "      <td>77.50</td>\n",
       "    </tr>\n",
       "    <tr>\n",
       "      <th>6</th>\n",
       "      <td>90.90</td>\n",
       "      <td>80.00</td>\n",
       "      <td>74.00</td>\n",
       "      <td>63.00</td>\n",
       "      <td>70.65</td>\n",
       "      <td>77.30</td>\n",
       "    </tr>\n",
       "    <tr>\n",
       "      <th>7</th>\n",
       "      <td>91.30</td>\n",
       "      <td>81.25</td>\n",
       "      <td>74.35</td>\n",
       "      <td>63.30</td>\n",
       "      <td>70.90</td>\n",
       "      <td>77.50</td>\n",
       "    </tr>\n",
       "    <tr>\n",
       "      <th>8</th>\n",
       "      <td>91.00</td>\n",
       "      <td>81.20</td>\n",
       "      <td>74.15</td>\n",
       "      <td>63.15</td>\n",
       "      <td>70.75</td>\n",
       "      <td>77.30</td>\n",
       "    </tr>\n",
       "    <tr>\n",
       "      <th>9</th>\n",
       "      <td>91.00</td>\n",
       "      <td>81.20</td>\n",
       "      <td>74.20</td>\n",
       "      <td>63.05</td>\n",
       "      <td>70.90</td>\n",
       "      <td>77.65</td>\n",
       "    </tr>\n",
       "    <tr>\n",
       "      <th>10</th>\n",
       "      <td>91.10</td>\n",
       "      <td>81.25</td>\n",
       "      <td>74.30</td>\n",
       "      <td>63.25</td>\n",
       "      <td>70.75</td>\n",
       "      <td>77.50</td>\n",
       "    </tr>\n",
       "    <tr>\n",
       "      <th>11</th>\n",
       "      <td>91.10</td>\n",
       "      <td>81.55</td>\n",
       "      <td>74.10</td>\n",
       "      <td>63.20</td>\n",
       "      <td>70.50</td>\n",
       "      <td>77.20</td>\n",
       "    </tr>\n",
       "    <tr>\n",
       "      <th>12</th>\n",
       "      <td>90.80</td>\n",
       "      <td>81.00</td>\n",
       "      <td>74.10</td>\n",
       "      <td>62.80</td>\n",
       "      <td>70.60</td>\n",
       "      <td>77.20</td>\n",
       "    </tr>\n",
       "  </tbody>\n",
       "</table>\n",
       "</div>"
      ],
      "text/plain": [
       "        a      b      c     ha     hb     hc\n",
       "0   91.10  81.30  74.30  63.50  70.90  77.35\n",
       "1   91.20  81.35  74.25  63.00  71.00  77.50\n",
       "2   90.90  81.15  74.20  63.25  70.90  77.60\n",
       "3   91.10  81.15  74.30  63.50  71.90  77.30\n",
       "4   91.20  81.30  74.30  63.40  71.40  77.60\n",
       "5   90.75  80.90  74.10  63.70  70.70  77.50\n",
       "6   90.90  80.00  74.00  63.00  70.65  77.30\n",
       "7   91.30  81.25  74.35  63.30  70.90  77.50\n",
       "8   91.00  81.20  74.15  63.15  70.75  77.30\n",
       "9   91.00  81.20  74.20  63.05  70.90  77.65\n",
       "10  91.10  81.25  74.30  63.25  70.75  77.50\n",
       "11  91.10  81.55  74.10  63.20  70.50  77.20\n",
       "12  90.80  81.00  74.10  62.80  70.60  77.20"
      ]
     },
     "metadata": {},
     "output_type": "display_data"
    }
   ],
   "source": [
    "raw_triangles_measurements = pd.read_csv(TRIANGLE_MEASUREMENTS_PATH)\n",
    "display(raw_triangles_measurements)"
   ]
  },
  {
   "attachments": {},
   "cell_type": "markdown",
   "metadata": {},
   "source": [
    "## Odchylenia standardowe pomiarów"
   ]
  },
  {
   "cell_type": "code",
   "execution_count": 39,
   "metadata": {},
   "outputs": [
    {
     "data": {
      "text/markdown": [
       "|    |   $$s_a \\space [mm]$$ |   $$s_b \\space [mm]$$ |   $$s_c \\space [mm]$$ |   $$s_{ha} \\space [mm]$$ |   $$s_{hb} \\space [mm]$$ |   $$s_{hc} \\space [mm]$$ |\n",
       "|---:|----------------------:|----------------------:|----------------------:|-------------------------:|-------------------------:|-------------------------:|\n",
       "|  0 |                  0.16 |                  0.37 |                  0.11 |                     0.25 |                     0.37 |                     0.15 |"
      ],
      "text/plain": [
       "<IPython.core.display.Markdown object>"
      ]
     },
     "metadata": {},
     "output_type": "display_data"
    }
   ],
   "source": [
    "standard_uncertainty = compute_standard_undertainty(raw_triangles_measurements)\n",
    "display_table_as_markdown_with_headers(\n",
    "    standard_uncertainty, LATEX_STANDARD_DEVIATION_SIDES_HEADERS\n",
    ")"
   ]
  },
  {
   "attachments": {},
   "cell_type": "markdown",
   "metadata": {},
   "source": [
    "## Średnie arytmetyczne pomiarów boków"
   ]
  },
  {
   "cell_type": "code",
   "execution_count": 40,
   "metadata": {},
   "outputs": [
    {
     "data": {
      "text/markdown": [
       "|    |   $$\\bar{a} \\space [mm]$$ |   $$\\bar{b} \\space [mm]$$ |   $$\\bar{c} \\space [mm]$$ |   $$\\bar{h}_a \\space [mm]$$ |   $$\\bar{h}_b \\space [mm]$$ |   $$\\bar{h}_c \\space [mm]$$ |\n",
       "|---:|--------------------------:|--------------------------:|--------------------------:|----------------------------:|----------------------------:|----------------------------:|\n",
       "|  0 |                     91.03 |                     81.12 |                      74.2 |                       63.24 |                       70.91 |                       77.42 |"
      ],
      "text/plain": [
       "<IPython.core.display.Markdown object>"
      ]
     },
     "metadata": {},
     "output_type": "display_data"
    }
   ],
   "source": [
    "means = compute_column_means(raw_triangles_measurements)\n",
    "display_table_as_markdown_with_headers(means, LATEX_ARITHMETIC_MEANS_HEADERS)"
   ]
  },
  {
   "attachments": {},
   "cell_type": "markdown",
   "metadata": {},
   "source": [
    "## Wskazanie pomiarów z błędami grubymi\n",
    "\n",
    "Wyniki zawierające pomiary, których różnice od średniej przekraczają 3 odchylenia standardowe, czerwone pole reprezentuje wartośc przekraczającą limit. `absdiff` jest funkcją zdefiniowaną jako $|\\bar{a} - a|$ gdzie a to wynik pomiaru boku trójkąta.\n",
    "\n",
    "![outlier.png](outlier.png)"
   ]
  },
  {
   "cell_type": "code",
   "execution_count": 41,
   "metadata": {},
   "outputs": [
    {
     "data": {
      "text/html": [
       "<style type=\"text/css\">\n",
       "#T_c2baa_row0_col0, #T_c2baa_row0_col1, #T_c2baa_row0_col2, #T_c2baa_row0_col3, #T_c2baa_row0_col4, #T_c2baa_row0_col5, #T_c2baa_row1_col0, #T_c2baa_row1_col1, #T_c2baa_row1_col2, #T_c2baa_row1_col3, #T_c2baa_row1_col4, #T_c2baa_row1_col5, #T_c2baa_row2_col0, #T_c2baa_row2_col1, #T_c2baa_row2_col2, #T_c2baa_row2_col3, #T_c2baa_row2_col4, #T_c2baa_row2_col5, #T_c2baa_row3_col0, #T_c2baa_row3_col1, #T_c2baa_row3_col2, #T_c2baa_row3_col3, #T_c2baa_row3_col4, #T_c2baa_row3_col5, #T_c2baa_row4_col0, #T_c2baa_row4_col1, #T_c2baa_row4_col2, #T_c2baa_row4_col3, #T_c2baa_row4_col4, #T_c2baa_row4_col5, #T_c2baa_row5_col0, #T_c2baa_row5_col1, #T_c2baa_row5_col2, #T_c2baa_row5_col3, #T_c2baa_row5_col4, #T_c2baa_row5_col5, #T_c2baa_row6_col0, #T_c2baa_row6_col2, #T_c2baa_row6_col3, #T_c2baa_row6_col4, #T_c2baa_row6_col5, #T_c2baa_row7_col0, #T_c2baa_row7_col1, #T_c2baa_row7_col2, #T_c2baa_row7_col3, #T_c2baa_row7_col4, #T_c2baa_row7_col5, #T_c2baa_row8_col0, #T_c2baa_row8_col1, #T_c2baa_row8_col2, #T_c2baa_row8_col3, #T_c2baa_row8_col4, #T_c2baa_row8_col5, #T_c2baa_row9_col0, #T_c2baa_row9_col1, #T_c2baa_row9_col2, #T_c2baa_row9_col3, #T_c2baa_row9_col4, #T_c2baa_row9_col5, #T_c2baa_row10_col0, #T_c2baa_row10_col1, #T_c2baa_row10_col2, #T_c2baa_row10_col3, #T_c2baa_row10_col4, #T_c2baa_row10_col5, #T_c2baa_row11_col0, #T_c2baa_row11_col1, #T_c2baa_row11_col2, #T_c2baa_row11_col3, #T_c2baa_row11_col4, #T_c2baa_row11_col5, #T_c2baa_row12_col0, #T_c2baa_row12_col1, #T_c2baa_row12_col2, #T_c2baa_row12_col3, #T_c2baa_row12_col4, #T_c2baa_row12_col5 {\n",
       "  background-color: green;\n",
       "}\n",
       "#T_c2baa_row6_col1 {\n",
       "  background-color: red;\n",
       "}\n",
       "</style>\n",
       "<table id=\"T_c2baa\">\n",
       "  <thead>\n",
       "    <tr>\n",
       "      <th class=\"blank level0\" >&nbsp;</th>\n",
       "      <th id=\"T_c2baa_level0_col0\" class=\"col_heading level0 col0\" >absdiff(a)</th>\n",
       "      <th id=\"T_c2baa_level0_col1\" class=\"col_heading level0 col1\" >absdiff(b)</th>\n",
       "      <th id=\"T_c2baa_level0_col2\" class=\"col_heading level0 col2\" >absdiff(c)</th>\n",
       "      <th id=\"T_c2baa_level0_col3\" class=\"col_heading level0 col3\" >absdiff(ha)</th>\n",
       "      <th id=\"T_c2baa_level0_col4\" class=\"col_heading level0 col4\" >absdiff(hb)</th>\n",
       "      <th id=\"T_c2baa_level0_col5\" class=\"col_heading level0 col5\" >absdiff(hc)</th>\n",
       "    </tr>\n",
       "  </thead>\n",
       "  <tbody>\n",
       "    <tr>\n",
       "      <th id=\"T_c2baa_level0_row0\" class=\"row_heading level0 row0\" >0</th>\n",
       "      <td id=\"T_c2baa_row0_col0\" class=\"data row0 col0\" >0.065385</td>\n",
       "      <td id=\"T_c2baa_row0_col1\" class=\"data row0 col1\" >0.176923</td>\n",
       "      <td id=\"T_c2baa_row0_col2\" class=\"data row0 col2\" >0.096154</td>\n",
       "      <td id=\"T_c2baa_row0_col3\" class=\"data row0 col3\" >0.261538</td>\n",
       "      <td id=\"T_c2baa_row0_col4\" class=\"data row0 col4\" >0.011538</td>\n",
       "      <td id=\"T_c2baa_row0_col5\" class=\"data row0 col5\" >0.073077</td>\n",
       "    </tr>\n",
       "    <tr>\n",
       "      <th id=\"T_c2baa_level0_row1\" class=\"row_heading level0 row1\" >1</th>\n",
       "      <td id=\"T_c2baa_row1_col0\" class=\"data row1 col0\" >0.165385</td>\n",
       "      <td id=\"T_c2baa_row1_col1\" class=\"data row1 col1\" >0.226923</td>\n",
       "      <td id=\"T_c2baa_row1_col2\" class=\"data row1 col2\" >0.046154</td>\n",
       "      <td id=\"T_c2baa_row1_col3\" class=\"data row1 col3\" >0.238462</td>\n",
       "      <td id=\"T_c2baa_row1_col4\" class=\"data row1 col4\" >0.088462</td>\n",
       "      <td id=\"T_c2baa_row1_col5\" class=\"data row1 col5\" >0.076923</td>\n",
       "    </tr>\n",
       "    <tr>\n",
       "      <th id=\"T_c2baa_level0_row2\" class=\"row_heading level0 row2\" >2</th>\n",
       "      <td id=\"T_c2baa_row2_col0\" class=\"data row2 col0\" >0.134615</td>\n",
       "      <td id=\"T_c2baa_row2_col1\" class=\"data row2 col1\" >0.026923</td>\n",
       "      <td id=\"T_c2baa_row2_col2\" class=\"data row2 col2\" >0.003846</td>\n",
       "      <td id=\"T_c2baa_row2_col3\" class=\"data row2 col3\" >0.011538</td>\n",
       "      <td id=\"T_c2baa_row2_col4\" class=\"data row2 col4\" >0.011538</td>\n",
       "      <td id=\"T_c2baa_row2_col5\" class=\"data row2 col5\" >0.176923</td>\n",
       "    </tr>\n",
       "    <tr>\n",
       "      <th id=\"T_c2baa_level0_row3\" class=\"row_heading level0 row3\" >3</th>\n",
       "      <td id=\"T_c2baa_row3_col0\" class=\"data row3 col0\" >0.065385</td>\n",
       "      <td id=\"T_c2baa_row3_col1\" class=\"data row3 col1\" >0.026923</td>\n",
       "      <td id=\"T_c2baa_row3_col2\" class=\"data row3 col2\" >0.096154</td>\n",
       "      <td id=\"T_c2baa_row3_col3\" class=\"data row3 col3\" >0.261538</td>\n",
       "      <td id=\"T_c2baa_row3_col4\" class=\"data row3 col4\" >0.988462</td>\n",
       "      <td id=\"T_c2baa_row3_col5\" class=\"data row3 col5\" >0.123077</td>\n",
       "    </tr>\n",
       "    <tr>\n",
       "      <th id=\"T_c2baa_level0_row4\" class=\"row_heading level0 row4\" >4</th>\n",
       "      <td id=\"T_c2baa_row4_col0\" class=\"data row4 col0\" >0.165385</td>\n",
       "      <td id=\"T_c2baa_row4_col1\" class=\"data row4 col1\" >0.176923</td>\n",
       "      <td id=\"T_c2baa_row4_col2\" class=\"data row4 col2\" >0.096154</td>\n",
       "      <td id=\"T_c2baa_row4_col3\" class=\"data row4 col3\" >0.161538</td>\n",
       "      <td id=\"T_c2baa_row4_col4\" class=\"data row4 col4\" >0.488462</td>\n",
       "      <td id=\"T_c2baa_row4_col5\" class=\"data row4 col5\" >0.176923</td>\n",
       "    </tr>\n",
       "    <tr>\n",
       "      <th id=\"T_c2baa_level0_row5\" class=\"row_heading level0 row5\" >5</th>\n",
       "      <td id=\"T_c2baa_row5_col0\" class=\"data row5 col0\" >0.284615</td>\n",
       "      <td id=\"T_c2baa_row5_col1\" class=\"data row5 col1\" >0.223077</td>\n",
       "      <td id=\"T_c2baa_row5_col2\" class=\"data row5 col2\" >0.103846</td>\n",
       "      <td id=\"T_c2baa_row5_col3\" class=\"data row5 col3\" >0.461538</td>\n",
       "      <td id=\"T_c2baa_row5_col4\" class=\"data row5 col4\" >0.211538</td>\n",
       "      <td id=\"T_c2baa_row5_col5\" class=\"data row5 col5\" >0.076923</td>\n",
       "    </tr>\n",
       "    <tr>\n",
       "      <th id=\"T_c2baa_level0_row6\" class=\"row_heading level0 row6\" >6</th>\n",
       "      <td id=\"T_c2baa_row6_col0\" class=\"data row6 col0\" >0.134615</td>\n",
       "      <td id=\"T_c2baa_row6_col1\" class=\"data row6 col1\" >1.123077</td>\n",
       "      <td id=\"T_c2baa_row6_col2\" class=\"data row6 col2\" >0.203846</td>\n",
       "      <td id=\"T_c2baa_row6_col3\" class=\"data row6 col3\" >0.238462</td>\n",
       "      <td id=\"T_c2baa_row6_col4\" class=\"data row6 col4\" >0.261538</td>\n",
       "      <td id=\"T_c2baa_row6_col5\" class=\"data row6 col5\" >0.123077</td>\n",
       "    </tr>\n",
       "    <tr>\n",
       "      <th id=\"T_c2baa_level0_row7\" class=\"row_heading level0 row7\" >7</th>\n",
       "      <td id=\"T_c2baa_row7_col0\" class=\"data row7 col0\" >0.265385</td>\n",
       "      <td id=\"T_c2baa_row7_col1\" class=\"data row7 col1\" >0.126923</td>\n",
       "      <td id=\"T_c2baa_row7_col2\" class=\"data row7 col2\" >0.146154</td>\n",
       "      <td id=\"T_c2baa_row7_col3\" class=\"data row7 col3\" >0.061538</td>\n",
       "      <td id=\"T_c2baa_row7_col4\" class=\"data row7 col4\" >0.011538</td>\n",
       "      <td id=\"T_c2baa_row7_col5\" class=\"data row7 col5\" >0.076923</td>\n",
       "    </tr>\n",
       "    <tr>\n",
       "      <th id=\"T_c2baa_level0_row8\" class=\"row_heading level0 row8\" >8</th>\n",
       "      <td id=\"T_c2baa_row8_col0\" class=\"data row8 col0\" >0.034615</td>\n",
       "      <td id=\"T_c2baa_row8_col1\" class=\"data row8 col1\" >0.076923</td>\n",
       "      <td id=\"T_c2baa_row8_col2\" class=\"data row8 col2\" >0.053846</td>\n",
       "      <td id=\"T_c2baa_row8_col3\" class=\"data row8 col3\" >0.088462</td>\n",
       "      <td id=\"T_c2baa_row8_col4\" class=\"data row8 col4\" >0.161538</td>\n",
       "      <td id=\"T_c2baa_row8_col5\" class=\"data row8 col5\" >0.123077</td>\n",
       "    </tr>\n",
       "    <tr>\n",
       "      <th id=\"T_c2baa_level0_row9\" class=\"row_heading level0 row9\" >9</th>\n",
       "      <td id=\"T_c2baa_row9_col0\" class=\"data row9 col0\" >0.034615</td>\n",
       "      <td id=\"T_c2baa_row9_col1\" class=\"data row9 col1\" >0.076923</td>\n",
       "      <td id=\"T_c2baa_row9_col2\" class=\"data row9 col2\" >0.003846</td>\n",
       "      <td id=\"T_c2baa_row9_col3\" class=\"data row9 col3\" >0.188462</td>\n",
       "      <td id=\"T_c2baa_row9_col4\" class=\"data row9 col4\" >0.011538</td>\n",
       "      <td id=\"T_c2baa_row9_col5\" class=\"data row9 col5\" >0.226923</td>\n",
       "    </tr>\n",
       "    <tr>\n",
       "      <th id=\"T_c2baa_level0_row10\" class=\"row_heading level0 row10\" >10</th>\n",
       "      <td id=\"T_c2baa_row10_col0\" class=\"data row10 col0\" >0.065385</td>\n",
       "      <td id=\"T_c2baa_row10_col1\" class=\"data row10 col1\" >0.126923</td>\n",
       "      <td id=\"T_c2baa_row10_col2\" class=\"data row10 col2\" >0.096154</td>\n",
       "      <td id=\"T_c2baa_row10_col3\" class=\"data row10 col3\" >0.011538</td>\n",
       "      <td id=\"T_c2baa_row10_col4\" class=\"data row10 col4\" >0.161538</td>\n",
       "      <td id=\"T_c2baa_row10_col5\" class=\"data row10 col5\" >0.076923</td>\n",
       "    </tr>\n",
       "    <tr>\n",
       "      <th id=\"T_c2baa_level0_row11\" class=\"row_heading level0 row11\" >11</th>\n",
       "      <td id=\"T_c2baa_row11_col0\" class=\"data row11 col0\" >0.065385</td>\n",
       "      <td id=\"T_c2baa_row11_col1\" class=\"data row11 col1\" >0.426923</td>\n",
       "      <td id=\"T_c2baa_row11_col2\" class=\"data row11 col2\" >0.103846</td>\n",
       "      <td id=\"T_c2baa_row11_col3\" class=\"data row11 col3\" >0.038462</td>\n",
       "      <td id=\"T_c2baa_row11_col4\" class=\"data row11 col4\" >0.411538</td>\n",
       "      <td id=\"T_c2baa_row11_col5\" class=\"data row11 col5\" >0.223077</td>\n",
       "    </tr>\n",
       "    <tr>\n",
       "      <th id=\"T_c2baa_level0_row12\" class=\"row_heading level0 row12\" >12</th>\n",
       "      <td id=\"T_c2baa_row12_col0\" class=\"data row12 col0\" >0.234615</td>\n",
       "      <td id=\"T_c2baa_row12_col1\" class=\"data row12 col1\" >0.123077</td>\n",
       "      <td id=\"T_c2baa_row12_col2\" class=\"data row12 col2\" >0.103846</td>\n",
       "      <td id=\"T_c2baa_row12_col3\" class=\"data row12 col3\" >0.438462</td>\n",
       "      <td id=\"T_c2baa_row12_col4\" class=\"data row12 col4\" >0.311538</td>\n",
       "      <td id=\"T_c2baa_row12_col5\" class=\"data row12 col5\" >0.223077</td>\n",
       "    </tr>\n",
       "  </tbody>\n",
       "</table>\n"
      ],
      "text/plain": [
       "<pandas.io.formats.style.Styler at 0x14bc68d10>"
      ]
     },
     "metadata": {},
     "output_type": "display_data"
    }
   ],
   "source": [
    "display(mark_outliers(raw_triangles_measurements))"
   ]
  },
  {
   "attachments": {},
   "cell_type": "markdown",
   "metadata": {},
   "source": [
    "## Pomiary z wyeliminowanymi błędami grubymi"
   ]
  },
  {
   "cell_type": "code",
   "execution_count": 42,
   "metadata": {},
   "outputs": [
    {
     "data": {
      "text/markdown": [
       "|    |   $$a \\space [mm]$$ |   $$b \\space [mm]$$ |   $$c \\space [mm]$$ |   $$h_a \\space [mm]$$ |   $$h_b \\space [mm]$$ |   $$h_c \\space [mm]$$ |\n",
       "|---:|--------------------:|--------------------:|--------------------:|----------------------:|----------------------:|----------------------:|\n",
       "|  0 |               91.1  |               81.3  |               74.3  |                 63.5  |                 70.9  |                 77.35 |\n",
       "|  1 |               91.2  |               81.35 |               74.25 |                 63    |                 71    |                 77.5  |\n",
       "|  2 |               90.9  |               81.15 |               74.2  |                 63.25 |                 70.9  |                 77.6  |\n",
       "|  3 |               91.1  |               81.15 |               74.3  |                 63.5  |                 71.9  |                 77.3  |\n",
       "|  4 |               91.2  |               81.3  |               74.3  |                 63.4  |                 71.4  |                 77.6  |\n",
       "|  5 |               90.75 |               80.9  |               74.1  |                 63.7  |                 70.7  |                 77.5  |\n",
       "|  7 |               91.3  |               81.25 |               74.35 |                 63.3  |                 70.9  |                 77.5  |\n",
       "|  8 |               91    |               81.2  |               74.15 |                 63.15 |                 70.75 |                 77.3  |\n",
       "|  9 |               91    |               81.2  |               74.2  |                 63.05 |                 70.9  |                 77.65 |\n",
       "| 10 |               91.1  |               81.25 |               74.3  |                 63.25 |                 70.75 |                 77.5  |\n",
       "| 11 |               91.1  |               81.55 |               74.1  |                 63.2  |                 70.5  |                 77.2  |\n",
       "| 12 |               90.8  |               81    |               74.1  |                 62.8  |                 70.6  |                 77.2  |"
      ],
      "text/plain": [
       "<IPython.core.display.Markdown object>"
      ]
     },
     "metadata": {},
     "output_type": "display_data"
    }
   ],
   "source": [
    "sanitized_triangles_measurements = remove_outliers(raw_triangles_measurements)\n",
    "display_table_as_markdown_with_headers(\n",
    "    sanitized_triangles_measurements, LATEX_MEASUREMENT_HEADERS\n",
    ")"
   ]
  },
  {
   "attachments": {},
   "cell_type": "markdown",
   "metadata": {},
   "source": [
    "## Niepewności standardowe całkowite"
   ]
  },
  {
   "cell_type": "code",
   "execution_count": 43,
   "metadata": {},
   "outputs": [
    {
     "data": {
      "text/markdown": [
       "|    |   $$u(\\bar{a})$$ |   $$u(\\bar{b})$$ |   $$u(\\bar{c})$$ |   $$u( \\bar{h_a})$$ |   $$u(\\bar{h}_b)$$ |   $$u(\\bar{h}_c)$$ |\n",
       "|---:|-----------------:|-----------------:|-----------------:|--------------------:|-------------------:|-------------------:|\n",
       "|  0 |             0.17 |             0.17 |              0.1 |                0.25 |               0.38 |               0.16 |"
      ],
      "text/plain": [
       "<IPython.core.display.Markdown object>"
      ]
     },
     "metadata": {},
     "output_type": "display_data"
    }
   ],
   "source": [
    "standard_uncertainty = compute_standard_measurement_uncertainty(\n",
    "    sanitized_triangles_measurements, 0.05\n",
    ")\n",
    "display_table_as_markdown_with_headers(standard_uncertainty, LATEX_UNCERTAINTY_HEADERS)"
   ]
  },
  {
   "attachments": {},
   "cell_type": "markdown",
   "metadata": {},
   "source": [
    "## Niepewności standardowe rozszerzone"
   ]
  },
  {
   "cell_type": "code",
   "execution_count": 44,
   "metadata": {},
   "outputs": [
    {
     "data": {
      "text/markdown": [
       "|    |   $$u(a)$$ |   $$u(b)$$ |   $$u(c)$$ |   $$u(h_a)$$ |   $$u(h_b)$$ |   $$u(h_c)$$ |\n",
       "|---:|-----------:|-----------:|-----------:|-------------:|-------------:|-------------:|\n",
       "|  0 |       0.18 |       0.18 |        0.1 |         0.27 |         0.41 |         0.17 |"
      ],
      "text/plain": [
       "<IPython.core.display.Markdown object>"
      ]
     },
     "metadata": {},
     "output_type": "display_data"
    }
   ],
   "source": [
    "extended_standard_uncertainties = compute_extended_standard_uncertainty(\n",
    "    sanitized_triangles_measurements\n",
    ")\n",
    "display_table_as_markdown_with_headers(\n",
    "    extended_standard_uncertainties, LATEX_STANDARD_UNCERTAINTY_HEADERS\n",
    ")"
   ]
  },
  {
   "attachments": {},
   "cell_type": "markdown",
   "metadata": {},
   "source": [
    "## Przedziały ufności"
   ]
  },
  {
   "cell_type": "code",
   "execution_count": 45,
   "metadata": {},
   "outputs": [
    {
     "data": {
      "text/markdown": [
       "|    | $$a \\space [mm]$$   | $$b \\space [mm]$$   | $$c \\space [mm]$$   | $$h_a \\space [mm]$$   | $$h_b \\space [mm]$$   | $$h_c \\space [mm]$$   |\n",
       "|---:|:--------------------|:--------------------|:--------------------|:----------------------|:----------------------|:----------------------|\n",
       "|  0 | $91.03 \\pm 0.18$    | $81.12 \\pm 0.18$    | $74.20 \\pm 0.10$    | $63.24 \\pm 0.27$      | $70.91 \\pm 0.41$      | $77.42 \\pm 0.17$      |"
      ],
      "text/plain": [
       "<IPython.core.display.Markdown object>"
      ]
     },
     "metadata": {},
     "output_type": "display_data"
    }
   ],
   "source": [
    "trust_intervals = pd.DataFrame()\n",
    "for column in means.columns:\n",
    "    trust_intervals[column] = [\n",
    "        r\"${:.2f} \\pm {:.2f}$\".format(val1, val2)\n",
    "        for val1, val2 in zip(means[column], extended_standard_uncertainties[column])\n",
    "    ]\n",
    "\n",
    "display_table_as_markdown_with_headers(trust_intervals, LATEX_TRUST_INTERVALS_HEADERS)"
   ]
  },
  {
   "attachments": {},
   "cell_type": "markdown",
   "metadata": {},
   "source": [
    "# Analiza pól trójkątów"
   ]
  },
  {
   "cell_type": "code",
   "execution_count": 46,
   "metadata": {},
   "outputs": [
    {
     "data": {
      "text/markdown": [
       "|    |   $$S_{heron} \\space [mm^2]$$ |   $$S_{ah} \\space [mm^2]$$ |   $$S_{bh} \\space [mm^2]$$ |   $$S_{ch} \\space [mm^2]$$ |\n",
       "|---:|------------------------------:|---------------------------:|---------------------------:|---------------------------:|\n",
       "|  0 |                       2864.42 |                    2892.42 |                    2882.08 |                    2873.55 |\n",
       "|  1 |                       2865.7  |                    2872.8  |                    2887.92 |                    2877.19 |\n",
       "|  2 |                       2854.5  |                    2874.71 |                    2876.77 |                    2878.96 |\n",
       "|  3 |                       2860.58 |                    2892.42 |                    2917.34 |                    2871.7  |\n",
       "|  4 |                       2865.94 |                    2891.04 |                    2902.41 |                    2882.84 |\n",
       "|  5 |                       2842.81 |                    2890.39 |                    2859.82 |                    2871.38 |\n",
       "|  7 |                       2867.7  |                    2889.64 |                    2880.31 |                    2881.06 |\n",
       "|  8 |                       2855.78 |                    2873.32 |                    2872.45 |                    2865.9  |\n",
       "|  9 |                       2857.3  |                    2868.78 |                    2878.54 |                    2880.82 |\n",
       "| 10 |                       2863.14 |                    2881.04 |                    2874.22 |                    2879.12 |\n",
       "| 11 |                       2864.69 |                    2878.76 |                    2874.64 |                    2860.26 |\n",
       "| 12 |                       2846.12 |                    2851.12 |                    2859.3  |                    2860.26 |"
      ],
      "text/plain": [
       "<IPython.core.display.Markdown object>"
      ]
     },
     "metadata": {},
     "output_type": "display_data"
    }
   ],
   "source": [
    "raw_sufraces = compute_triangle_surface_all_methods(sanitized_triangles_measurements)\n",
    "display_table_as_markdown_with_headers(raw_sufraces, LATEX_AREA_HEADERS)"
   ]
  },
  {
   "attachments": {},
   "cell_type": "markdown",
   "metadata": {},
   "source": [
    "## Średnie wartości pól"
   ]
  },
  {
   "cell_type": "code",
   "execution_count": 47,
   "metadata": {},
   "outputs": [
    {
     "data": {
      "text/markdown": [
       "|    |   $$S_{heron} \\space [mm^2]$$ |   $$S_{ah} \\space [mm^2]$$ |   $$S_{bh} \\space [mm^2]$$ |   $$S_{ch} \\space [mm^2]$$ |\n",
       "|---:|------------------------------:|---------------------------:|---------------------------:|---------------------------:|\n",
       "|  0 |                       2859.06 |                     2879.7 |                    2880.48 |                    2873.59 |"
      ],
      "text/plain": [
       "<IPython.core.display.Markdown object>"
      ]
     },
     "metadata": {},
     "output_type": "display_data"
    }
   ],
   "source": [
    "surface_areas_means = compute_column_means(raw_sufraces)\n",
    "display_table_as_markdown_with_headers(surface_areas_means, LATEX_AREA_HEADERS)"
   ]
  },
  {
   "attachments": {},
   "cell_type": "markdown",
   "metadata": {},
   "source": [
    "## Średnie wartości na podstawie średnich z pomiarów"
   ]
  },
  {
   "cell_type": "code",
   "execution_count": 48,
   "metadata": {},
   "outputs": [
    {
     "data": {
      "text/markdown": [
       "|    |   $$S_{heron} \\space [mm^2]$$ |   $$S_{ah} \\space [mm^2]$$ |   $$S_{bh} \\space [mm^2]$$ |   $$S_{ch} \\space [mm^2]$$ |\n",
       "|---:|------------------------------:|---------------------------:|---------------------------:|---------------------------:|\n",
       "|  0 |                       2855.98 |                    2878.44 |                    2876.28 |                    2872.55 |"
      ],
      "text/plain": [
       "<IPython.core.display.Markdown object>"
      ]
     },
     "metadata": {},
     "output_type": "display_data"
    }
   ],
   "source": [
    "# rename columns in means to be a,b,c, ha, hb, hc in mean\n",
    "means_tmp = means.copy()\n",
    "means_tmp.columns = [\"a\", \"b\", \"c\", \"ha\", \"hb\", \"hc\"]\n",
    "surfrace_areas_from_side_means = compute_triangle_surface_all_methods(means_tmp)\n",
    "display_table_as_markdown_with_headers(\n",
    "    surfrace_areas_from_side_means, LATEX_AREA_HEADERS\n",
    ")"
   ]
  },
  {
   "attachments": {},
   "cell_type": "markdown",
   "metadata": {},
   "source": [
    "## Odchylenia standardowe pól"
   ]
  },
  {
   "cell_type": "code",
   "execution_count": 49,
   "metadata": {},
   "outputs": [
    {
     "data": {
      "text/markdown": [
       "|    |   $$u(S_{heron}) \\space [mm^2]$$ |   $$u(S_{ah}) \\space [mm^2]$$ |   $$u(S_{bh}) \\space [mm^2]$$ |   $$u(S_{ch}) \\space [mm^2]$$ |\n",
       "|---:|---------------------------------:|------------------------------:|------------------------------:|------------------------------:|\n",
       "|  0 |                             0.26 |                           0.3 |                          0.42 |                          0.19 |"
      ],
      "text/plain": [
       "<IPython.core.display.Markdown object>"
      ]
     },
     "metadata": {},
     "output_type": "display_data"
    }
   ],
   "source": [
    "surface_standard_deviations = pd.DataFrame()\n",
    "surface_standard_deviations[\"S_heron\"] = np.sqrt(\n",
    "    standard_uncertainty[\"a\"] ** 2\n",
    "    + standard_uncertainty[\"b\"] ** 2\n",
    "    + standard_uncertainty[\"c\"] ** 2\n",
    ")\n",
    "surface_standard_deviations[\"S_ah\"] = np.sqrt(\n",
    "    standard_uncertainty[\"a\"] ** 2 + standard_uncertainty[\"ha\"] ** 2\n",
    ")\n",
    "surface_standard_deviations[\"S_bh\"] = np.sqrt(\n",
    "    standard_uncertainty[\"b\"] ** 2 + standard_uncertainty[\"hb\"] ** 2\n",
    ")\n",
    "surface_standard_deviations[\"S_ch\"] = np.sqrt(\n",
    "    standard_uncertainty[\"c\"] ** 2 + standard_uncertainty[\"hc\"] ** 2\n",
    ")\n",
    "\n",
    "\n",
    "display_table_as_markdown_with_headers(\n",
    "    surface_standard_deviations, LATEX_SURFACE_STANDARD_DEVIATIONS_HEADERS\n",
    ")"
   ]
  },
  {
   "attachments": {},
   "cell_type": "markdown",
   "metadata": {},
   "source": [
    "## Niepewności złozone"
   ]
  },
  {
   "cell_type": "code",
   "execution_count": 50,
   "metadata": {},
   "outputs": [
    {
     "data": {
      "text/markdown": [
       "|    |   $$S_{\\bar{y}{Heron}}$$ |   $$S_{\\bar{y}{ah}}$$ |   $$S_{\\bar{y}{bh}}$$ |   $$S_{\\bar{y}{ch}}$$ |\n",
       "|---:|-------------------------:|----------------------:|----------------------:|----------------------:|\n",
       "|  0 |                      8.8 |                 13.67 |                 17.85 |                  8.66 |"
      ],
      "text/plain": [
       "<IPython.core.display.Markdown object>"
      ]
     },
     "metadata": {},
     "output_type": "display_data"
    }
   ],
   "source": [
    "sem_uncertainties = raw_sufraces.sem()\n",
    "sem_uncertainties = sem_uncertainties.multiply(3.7889823828484244)\n",
    "sem_uncertainties = sem_uncertainties.to_frame().T\n",
    "\n",
    "display_table_as_markdown_with_headers(\n",
    "    sem_uncertainties, LATEX_EXTENDED_UNCERTAINTIES_HEADERS\n",
    ")"
   ]
  },
  {
   "attachments": {},
   "cell_type": "markdown",
   "metadata": {},
   "source": [
    "## Przedziały ufności"
   ]
  },
  {
   "cell_type": "code",
   "execution_count": 51,
   "metadata": {},
   "outputs": [
    {
     "data": {
      "text/markdown": [
       "|    | $$S_{heron} \\space [mm^2]$$   | $$S_{ah} \\space [mm^2]$$   | $$S_{bh} \\space [mm^2]$$   | $$S_{ch} \\space [mm^2]$$   |\n",
       "|---:|:------------------------------|:---------------------------|:---------------------------|:---------------------------|\n",
       "|  0 | $2859.06 \\pm 8.80$            | $2879.70 \\pm 13.67$        | $2880.48 \\pm 17.85$        | $2873.59 \\pm 8.66$         |"
      ],
      "text/plain": [
       "<IPython.core.display.Markdown object>"
      ]
     },
     "metadata": {},
     "output_type": "display_data"
    }
   ],
   "source": [
    "trust_intervals = pd.DataFrame()\n",
    "for column in surface_areas_means.columns:\n",
    "    trust_intervals[column] = [\n",
    "        r\"${:.2f} \\pm {:.2f}$\".format(val1, val2)\n",
    "        for val1, val2 in zip(surface_areas_means[column], sem_uncertainties[column])\n",
    "    ]\n",
    "\n",
    "\n",
    "display_table_as_markdown_with_headers(\n",
    "    trust_intervals, LATEX_SURFACE_TRUST_INTERVALS_HEADERS\n",
    ")"
   ]
  },
  {
   "attachments": {},
   "cell_type": "markdown",
   "metadata": {},
   "source": [
    "# Wnioski\n",
    "\n",
    "\n",
    "* Jeden z pomiarów obarczony był błędem grubym, tj. nie spełnił zależności $|x_i - x| < \\sigma$. Został wyeliminowany, a ponowna analiza wyników pokazała, że nie powstały nowe błędy grube. Pozostałe wartości mieszczą się w przedziale $95\\%$ wyników nieobarczonych błędem grubym.\n",
    "\n",
    "* Pomiary ogółem były mniej dokładne niż sugerowała skala główna i dokładność suwmiarki ($0.05mm$). W pomiarach bezpośrednich boków trójkąta niedokładność pomiaru była min. dwukrotnie większa. \n",
    "\n",
    "* W tabeli ze wskazaniem pomiarów z błędami grubymi widać, że najmniejszy odchył wartości mierzonych od ich średnich arytmetycznych uzyskał student nr 8. Może być to spowodowane jego skrupulatnością oraz jakością suwmiarki z której korzystał.\n",
    "\n",
    "* Najmniejsze niepewności rozszerzone cechuje pomiar długości ($0.10$) i wysokości ($0.17$) boku *c*.\n",
    "\n",
    "* Błędy w pomiarach bezpośrednich mogły być systematyczne i wywołane przez:\n",
    "    * mierząc bok, położenie suwmiarki nie było idealnie do niego równoległe\n",
    "    * mierząc wysokość, położenie suwmiarki nie było idealnie prostopadłe do boku\n",
    "    * niepoprawnie odczytana wartość z noniusza\n",
    "* Niepewność złożona pomiarów pośrednich pola trójkąta jest większa od $1-2$ rzędy względem niepewności pomiarów boków. Można z tego wyciągnąć wniosek, że pomiary pośrednie ogólnie cechują się mniejszą dokładnością niż te pośrednie. Niepewność złożona dla pomiarów wykorzystujących wzór Herona jest mniejsza niż 2 z 3 pozostałych pomiarów pól, wykorzystujących pomiar przez zależność długości boku od jego wysokości. Można stwierdzić, że pomiary długości boków zostały przeprowadzone z większą dokładnością, niż pomiary wysokości. Wydaje się to nieintuicyjne, ponieważ łatwiej jest ustawić suwmiarkę prostopadle do boku (równolegle do wysokości) niż równolegle do długości mierzonego boku.\n",
    "\n"
   ]
  }
 ],
 "metadata": {
  "kernelspec": {
   "display_name": "data",
   "language": "python",
   "name": "python3"
  },
  "language_info": {
   "codemirror_mode": {
    "name": "ipython",
    "version": 3
   },
   "file_extension": ".py",
   "mimetype": "text/x-python",
   "name": "python",
   "nbconvert_exporter": "python",
   "pygments_lexer": "ipython3",
   "version": "3.11.0"
  },
  "orig_nbformat": 4
 },
 "nbformat": 4,
 "nbformat_minor": 2
}
