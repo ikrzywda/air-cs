{
 "cells": [
  {
   "cell_type": "markdown",
   "metadata": {},
   "source": [
    "# Zadanie 1\n",
    "\n",
    "Przetestujcie wykonywanie prostych obliczeń w języku Python"
   ]
  },
  {
   "cell_type": "code",
   "execution_count": 15,
   "metadata": {},
   "outputs": [
    {
     "name": "stdout",
     "output_type": "stream",
     "text": [
      "3\n"
     ]
    },
    {
     "data": {
      "application/javascript": "\n            setTimeout(function() {\n                var nbb_cell_id = 15;\n                var nbb_unformatted_code = \"\\na = 1\\nb = 2\\n\\nprint (a+b)\";\n                var nbb_formatted_code = \"a = 1\\nb = 2\\n\\nprint(a + b)\";\n                var nbb_cells = Jupyter.notebook.get_cells();\n                for (var i = 0; i < nbb_cells.length; ++i) {\n                    if (nbb_cells[i].input_prompt_number == nbb_cell_id) {\n                        if (nbb_cells[i].get_text() == nbb_unformatted_code) {\n                             nbb_cells[i].set_text(nbb_formatted_code);\n                        }\n                        break;\n                    }\n                }\n            }, 500);\n            ",
      "text/plain": [
       "<IPython.core.display.Javascript object>"
      ]
     },
     "metadata": {},
     "output_type": "display_data"
    },
    {
     "data": {
      "application/javascript": "\n            setTimeout(function() {\n                var nbb_cell_id = 15;\n                var nbb_unformatted_code = \"\\na = 1\\nb = 2\\n\\nprint (a+b)\";\n                var nbb_formatted_code = \"a = 1\\nb = 2\\n\\nprint(a + b)\";\n                var nbb_cells = Jupyter.notebook.get_cells();\n                for (var i = 0; i < nbb_cells.length; ++i) {\n                    if (nbb_cells[i].input_prompt_number == nbb_cell_id) {\n                        if (nbb_cells[i].get_text() == nbb_unformatted_code) {\n                             nbb_cells[i].set_text(nbb_formatted_code);\n                        }\n                        break;\n                    }\n                }\n            }, 500);\n            ",
      "text/plain": [
       "<IPython.core.display.Javascript object>"
      ]
     },
     "metadata": {},
     "output_type": "display_data"
    }
   ],
   "source": [
    "a = 1\n",
    "b = 2\n",
    "\n",
    "print(a + b)"
   ]
  },
  {
   "cell_type": "markdown",
   "metadata": {},
   "source": [
    "# Zadanie 2\n",
    "\n",
    "Instrukcja warunkowa w języku Python ma składnię\n",
    "\n",
    "```python\n",
    "if condition:\n",
    "    expr1\n",
    "    expr2\n",
    "    \n",
    "if condition:\n",
    "    expr1\n",
    "    expr2\n",
    "else:\n",
    "    expr3\n",
    "    \n",
    "if condition:\n",
    "    expr1\n",
    "    expr2\n",
    "elif condition2:\n",
    "    expr3\n",
    "else:\n",
    "    expr4\n",
    "    \n",
    "```\n",
    "\n",
    "Napisz program, który dla podanych ocen z wykładu i laboratorium obliczy ocenę końcową z grupy kursów.\n",
    "\n",
    "- Ocena = (0.6W+0.4L) jeśli W >= 3.0 i L >= 3.0\n",
    "- Ocena = 2.0 jeśli W == 2.0 lub L == 2.0"
   ]
  },
  {
   "cell_type": "code",
   "execution_count": 19,
   "metadata": {},
   "outputs": [
    {
     "name": "stdout",
     "output_type": "stream",
     "text": [
      "3.4\n"
     ]
    },
    {
     "data": {
      "application/javascript": "\n            setTimeout(function() {\n                var nbb_cell_id = 19;\n                var nbb_unformatted_code = \"W = 3\\nL = 2\\n\\n\\ndef compute_grade(lecture_grade: float, lab_grade: float) -> float:\\n    return (\\n        0.6 * lecture_grade + 0.4 * lab_grade\\n        if lecture_grade >= 3 and lab_grade >= 3\\n        else 2\\n    )\\n\\n\\nprint(compute_grade(W, 4))\";\n                var nbb_formatted_code = \"W = 3\\nL = 2\\n\\n\\ndef compute_grade(lecture_grade: float, lab_grade: float) -> float:\\n    return (\\n        0.6 * lecture_grade + 0.4 * lab_grade\\n        if lecture_grade >= 3 and lab_grade >= 3\\n        else 2\\n    )\\n\\n\\nprint(compute_grade(W, 4))\";\n                var nbb_cells = Jupyter.notebook.get_cells();\n                for (var i = 0; i < nbb_cells.length; ++i) {\n                    if (nbb_cells[i].input_prompt_number == nbb_cell_id) {\n                        if (nbb_cells[i].get_text() == nbb_unformatted_code) {\n                             nbb_cells[i].set_text(nbb_formatted_code);\n                        }\n                        break;\n                    }\n                }\n            }, 500);\n            ",
      "text/plain": [
       "<IPython.core.display.Javascript object>"
      ]
     },
     "metadata": {},
     "output_type": "display_data"
    },
    {
     "data": {
      "application/javascript": "\n            setTimeout(function() {\n                var nbb_cell_id = 19;\n                var nbb_unformatted_code = \"W = 3\\nL = 2\\n\\n\\ndef compute_grade(lecture_grade: float, lab_grade: float) -> float:\\n    return (\\n        0.6 * lecture_grade + 0.4 * lab_grade\\n        if lecture_grade >= 3 and lab_grade >= 3\\n        else 2\\n    )\\n\\n\\nprint(compute_grade(W, 4))\";\n                var nbb_formatted_code = \"W = 3\\nL = 2\\n\\n\\ndef compute_grade(lecture_grade: float, lab_grade: float) -> float:\\n    return (\\n        0.6 * lecture_grade + 0.4 * lab_grade\\n        if lecture_grade >= 3 and lab_grade >= 3\\n        else 2\\n    )\\n\\n\\nprint(compute_grade(W, 4))\";\n                var nbb_cells = Jupyter.notebook.get_cells();\n                for (var i = 0; i < nbb_cells.length; ++i) {\n                    if (nbb_cells[i].input_prompt_number == nbb_cell_id) {\n                        if (nbb_cells[i].get_text() == nbb_unformatted_code) {\n                             nbb_cells[i].set_text(nbb_formatted_code);\n                        }\n                        break;\n                    }\n                }\n            }, 500);\n            ",
      "text/plain": [
       "<IPython.core.display.Javascript object>"
      ]
     },
     "metadata": {},
     "output_type": "display_data"
    }
   ],
   "source": [
    "W = 3\n",
    "L = 2\n",
    "\n",
    "\n",
    "def compute_grade(lecture_grade: float, lab_grade: float) -> float:\n",
    "    return (\n",
    "        0.6 * lecture_grade + 0.4 * lab_grade\n",
    "        if lecture_grade >= 3 and lab_grade >= 3\n",
    "        else 2\n",
    "    )\n",
    "\n",
    "\n",
    "print(compute_grade(W, 4))"
   ]
  },
  {
   "cell_type": "markdown",
   "metadata": {},
   "source": [
    "# Zadanie 3\n",
    "\n",
    "Napisz kod, który dla danego wzrostu i wagi wyświetli BMI osoby oraz poda słowną interpretację\n",
    "\n",
    "\n",
    "Zakresy wartości BMI:\n",
    "\n",
    "    mniej niż 16 - wygłodzenie\n",
    "    16 - 16.99   - wychudzenie\n",
    "    17 - 18.49   - niedowaga\n",
    "    18.5 - 24.99 - wartość prawidłowa\n",
    "    25 - 29.99   - nadwaga\n",
    "    30 - 34.99   - I stopień otyłości\n",
    "    35 - 39.99   - II stopień otyłości\n",
    "    powyżej 40   - otyłość skrajna\n",
    "\n",
    "Dla przypomnienia\n",
    "\n",
    "$$ BMI = \\frac {masa}{wzrost^2} $$\n",
    "\n",
    "gdzie masa jest podana w kilogramach a wzrost w metrach"
   ]
  },
  {
   "cell_type": "code",
   "execution_count": 21,
   "metadata": {},
   "outputs": [
    {
     "name": "stdout",
     "output_type": "stream",
     "text": [
      "Your BMI is: 29.99: nadwaga\n"
     ]
    },
    {
     "data": {
      "application/javascript": "\n            setTimeout(function() {\n                var nbb_cell_id = 21;\n                var nbb_unformatted_code = \"HEIGHT = 1.8\\nMASS = 90\\n\\nBMI_PROMPT_MAP = dict(\\n    [\\n        (16, \\\"wyg\\u0142odzenie\\\"),\\n        (16.99, \\\"wychudzenie\\\"),\\n        (18.49, \\\"niedowaga\\\"),\\n        (24.99, \\\"warto\\u015b\\u0107 prawid\\u0142owa\\\"),\\n        (29.99, \\\"nadwaga\\\"),\\n        (34.99, \\\"I stopie\\u0144 oty\\u0142o\\u015bci\\\"),\\n        (39.99, \\\"II stopie\\u0144 oty\\u0142o\\u015bci\\\"),\\n        (40, \\\"oty\\u0142o\\u015b\\u0107 skrajna\\\"),\\n    ]\\n)\\n\\n\\ndef compute_bmi(height: float, mass: float) -> float:\\n    return mass / (height**2)\\n\\n\\ndef bmi_prompt(bmi: float):\\n    for key, value in BMI_PROMPT_MAP.items():\\n        if key > bmi:\\n            print(f\\\"Your BMI is: {key}: {value}\\\")\\n            break\\n\\n\\nbmi_prompt(compute_bmi(HEIGHT, MASS))\";\n                var nbb_formatted_code = \"HEIGHT = 1.8\\nMASS = 90\\n\\nBMI_PROMPT_MAP = dict(\\n    [\\n        (16, \\\"wyg\\u0142odzenie\\\"),\\n        (16.99, \\\"wychudzenie\\\"),\\n        (18.49, \\\"niedowaga\\\"),\\n        (24.99, \\\"warto\\u015b\\u0107 prawid\\u0142owa\\\"),\\n        (29.99, \\\"nadwaga\\\"),\\n        (34.99, \\\"I stopie\\u0144 oty\\u0142o\\u015bci\\\"),\\n        (39.99, \\\"II stopie\\u0144 oty\\u0142o\\u015bci\\\"),\\n        (40, \\\"oty\\u0142o\\u015b\\u0107 skrajna\\\"),\\n    ]\\n)\\n\\n\\ndef compute_bmi(height: float, mass: float) -> float:\\n    return mass / (height**2)\\n\\n\\ndef bmi_prompt(bmi: float):\\n    for key, value in BMI_PROMPT_MAP.items():\\n        if key > bmi:\\n            print(f\\\"Your BMI is: {key}: {value}\\\")\\n            break\\n\\n\\nbmi_prompt(compute_bmi(HEIGHT, MASS))\";\n                var nbb_cells = Jupyter.notebook.get_cells();\n                for (var i = 0; i < nbb_cells.length; ++i) {\n                    if (nbb_cells[i].input_prompt_number == nbb_cell_id) {\n                        if (nbb_cells[i].get_text() == nbb_unformatted_code) {\n                             nbb_cells[i].set_text(nbb_formatted_code);\n                        }\n                        break;\n                    }\n                }\n            }, 500);\n            ",
      "text/plain": [
       "<IPython.core.display.Javascript object>"
      ]
     },
     "metadata": {},
     "output_type": "display_data"
    },
    {
     "data": {
      "application/javascript": "\n            setTimeout(function() {\n                var nbb_cell_id = 21;\n                var nbb_unformatted_code = \"HEIGHT = 1.8\\nMASS = 90\\n\\nBMI_PROMPT_MAP = dict(\\n    [\\n        (16, \\\"wyg\\u0142odzenie\\\"),\\n        (16.99, \\\"wychudzenie\\\"),\\n        (18.49, \\\"niedowaga\\\"),\\n        (24.99, \\\"warto\\u015b\\u0107 prawid\\u0142owa\\\"),\\n        (29.99, \\\"nadwaga\\\"),\\n        (34.99, \\\"I stopie\\u0144 oty\\u0142o\\u015bci\\\"),\\n        (39.99, \\\"II stopie\\u0144 oty\\u0142o\\u015bci\\\"),\\n        (40, \\\"oty\\u0142o\\u015b\\u0107 skrajna\\\"),\\n    ]\\n)\\n\\n\\ndef compute_bmi(height: float, mass: float) -> float:\\n    return mass / (height**2)\\n\\n\\ndef bmi_prompt(bmi: float):\\n    for key, value in BMI_PROMPT_MAP.items():\\n        if key > bmi:\\n            print(f\\\"Your BMI is: {key}: {value}\\\")\\n            break\\n\\n\\nbmi_prompt(compute_bmi(HEIGHT, MASS))\";\n                var nbb_formatted_code = \"HEIGHT = 1.8\\nMASS = 90\\n\\nBMI_PROMPT_MAP = dict(\\n    [\\n        (16, \\\"wyg\\u0142odzenie\\\"),\\n        (16.99, \\\"wychudzenie\\\"),\\n        (18.49, \\\"niedowaga\\\"),\\n        (24.99, \\\"warto\\u015b\\u0107 prawid\\u0142owa\\\"),\\n        (29.99, \\\"nadwaga\\\"),\\n        (34.99, \\\"I stopie\\u0144 oty\\u0142o\\u015bci\\\"),\\n        (39.99, \\\"II stopie\\u0144 oty\\u0142o\\u015bci\\\"),\\n        (40, \\\"oty\\u0142o\\u015b\\u0107 skrajna\\\"),\\n    ]\\n)\\n\\n\\ndef compute_bmi(height: float, mass: float) -> float:\\n    return mass / (height**2)\\n\\n\\ndef bmi_prompt(bmi: float):\\n    for key, value in BMI_PROMPT_MAP.items():\\n        if key > bmi:\\n            print(f\\\"Your BMI is: {key}: {value}\\\")\\n            break\\n\\n\\nbmi_prompt(compute_bmi(HEIGHT, MASS))\";\n                var nbb_cells = Jupyter.notebook.get_cells();\n                for (var i = 0; i < nbb_cells.length; ++i) {\n                    if (nbb_cells[i].input_prompt_number == nbb_cell_id) {\n                        if (nbb_cells[i].get_text() == nbb_unformatted_code) {\n                             nbb_cells[i].set_text(nbb_formatted_code);\n                        }\n                        break;\n                    }\n                }\n            }, 500);\n            ",
      "text/plain": [
       "<IPython.core.display.Javascript object>"
      ]
     },
     "metadata": {},
     "output_type": "display_data"
    }
   ],
   "source": [
    "HEIGHT = 1.8\n",
    "MASS = 90\n",
    "\n",
    "BMI_PROMPT_MAP = dict(\n",
    "    [\n",
    "        (16, \"wygłodzenie\"),\n",
    "        (16.99, \"wychudzenie\"),\n",
    "        (18.49, \"niedowaga\"),\n",
    "        (24.99, \"wartość prawidłowa\"),\n",
    "        (29.99, \"nadwaga\"),\n",
    "        (34.99, \"I stopień otyłości\"),\n",
    "        (39.99, \"II stopień otyłości\"),\n",
    "        (40, \"otyłość skrajna\"),\n",
    "    ]\n",
    ")\n",
    "\n",
    "\n",
    "def compute_bmi(height: float, mass: float) -> float:\n",
    "    return mass / (height**2)\n",
    "\n",
    "\n",
    "def bmi_prompt(bmi: float):\n",
    "    for key, value in BMI_PROMPT_MAP.items():\n",
    "        if key > bmi:\n",
    "            print(f\"Your BMI is: {key}: {value}\")\n",
    "            break\n",
    "\n",
    "\n",
    "bmi_prompt(compute_bmi(HEIGHT, MASS))"
   ]
  },
  {
   "cell_type": "markdown",
   "metadata": {},
   "source": [
    "# Zadanie 4\n",
    "\n",
    "Składnia pętli while w Pythonie:\n",
    "    \n",
    "```python\n",
    "while condition:\n",
    "    expr1\n",
    "    expr2\n",
    "```\n",
    "\n",
    "Napisz program, który wyświetli wszystkie liczby podzielne przez 5 z zakresu od A do B\n"
   ]
  },
  {
   "cell_type": "code",
   "execution_count": 12,
   "metadata": {},
   "outputs": [
    {
     "name": "stdout",
     "output_type": "stream",
     "text": [
      "5\n",
      "10\n",
      "15\n",
      "20\n",
      "25\n",
      "30\n",
      "35\n",
      "40\n",
      "45\n",
      "50\n",
      "55\n",
      "60\n",
      "65\n",
      "70\n"
     ]
    },
    {
     "data": {
      "application/javascript": "\n            setTimeout(function() {\n                var nbb_cell_id = 12;\n                var nbb_unformatted_code = \"A = 3\\nB = 72\\n\\nfor i in range(A, B):\\n    if not (i % 5):\\n        print(i)\";\n                var nbb_formatted_code = \"A = 3\\nB = 72\\n\\nfor i in range(A, B):\\n    if not (i % 5):\\n        print(i)\";\n                var nbb_cells = Jupyter.notebook.get_cells();\n                for (var i = 0; i < nbb_cells.length; ++i) {\n                    if (nbb_cells[i].input_prompt_number == nbb_cell_id) {\n                        if (nbb_cells[i].get_text() == nbb_unformatted_code) {\n                             nbb_cells[i].set_text(nbb_formatted_code);\n                        }\n                        break;\n                    }\n                }\n            }, 500);\n            ",
      "text/plain": [
       "<IPython.core.display.Javascript object>"
      ]
     },
     "metadata": {},
     "output_type": "display_data"
    },
    {
     "data": {
      "application/javascript": "\n            setTimeout(function() {\n                var nbb_cell_id = 12;\n                var nbb_unformatted_code = \"A = 3\\nB = 72\\n\\nfor i in range(A, B):\\n    if not (i % 5):\\n        print(i)\";\n                var nbb_formatted_code = \"A = 3\\nB = 72\\n\\nfor i in range(A, B):\\n    if not (i % 5):\\n        print(i)\";\n                var nbb_cells = Jupyter.notebook.get_cells();\n                for (var i = 0; i < nbb_cells.length; ++i) {\n                    if (nbb_cells[i].input_prompt_number == nbb_cell_id) {\n                        if (nbb_cells[i].get_text() == nbb_unformatted_code) {\n                             nbb_cells[i].set_text(nbb_formatted_code);\n                        }\n                        break;\n                    }\n                }\n            }, 500);\n            ",
      "text/plain": [
       "<IPython.core.display.Javascript object>"
      ]
     },
     "metadata": {},
     "output_type": "display_data"
    }
   ],
   "source": [
    "A = 3\n",
    "B = 72\n",
    "\n",
    "for i in range(A, B):\n",
    "    if not (i % 5):\n",
    "        print(i)"
   ]
  },
  {
   "cell_type": "markdown",
   "metadata": {},
   "source": [
    "# Zadanie 5\n",
    "\n",
    "Wyświetl tabelę konwersji temperatur ze stopni Celsjusza na stopnie Fahrenhaita. Wyświetl ją dla temepratur z zakresu 0C....50C z krokiem 0.5 stopnia\n",
    "Tabelka powinna mieć ładne ramki ;)\n"
   ]
  },
  {
   "cell_type": "code",
   "execution_count": 1,
   "metadata": {},
   "outputs": [
    {
     "name": "stdout",
     "output_type": "stream",
     "text": [
      "|Celsius        |Farenheit      |\n",
      "|===============================|\n",
      "|0.00           |32.00          |\n",
      "|0.50           |32.90          |\n",
      "|1.00           |33.80          |\n",
      "|1.50           |34.70          |\n",
      "|2.00           |35.60          |\n",
      "|2.50           |36.50          |\n",
      "|3.00           |37.40          |\n",
      "|3.50           |38.30          |\n",
      "|4.00           |39.20          |\n",
      "|4.50           |40.10          |\n",
      "|5.00           |41.00          |\n",
      "|5.50           |41.90          |\n",
      "|6.00           |42.80          |\n",
      "|6.50           |43.70          |\n",
      "|7.00           |44.60          |\n",
      "|7.50           |45.50          |\n",
      "|8.00           |46.40          |\n",
      "|8.50           |47.30          |\n",
      "|9.00           |48.20          |\n",
      "|9.50           |49.10          |\n",
      "|10.00          |50.00          |\n",
      "|10.50          |50.90          |\n",
      "|11.00          |51.80          |\n",
      "|11.50          |52.70          |\n",
      "|12.00          |53.60          |\n",
      "|12.50          |54.50          |\n",
      "|13.00          |55.40          |\n",
      "|13.50          |56.30          |\n",
      "|14.00          |57.20          |\n",
      "|14.50          |58.10          |\n",
      "|15.00          |59.00          |\n",
      "|15.50          |59.90          |\n",
      "|16.00          |60.80          |\n",
      "|16.50          |61.70          |\n",
      "|17.00          |62.60          |\n",
      "|17.50          |63.50          |\n",
      "|18.00          |64.40          |\n",
      "|18.50          |65.30          |\n",
      "|19.00          |66.20          |\n",
      "|19.50          |67.10          |\n",
      "|20.00          |68.00          |\n",
      "|20.50          |68.90          |\n",
      "|21.00          |69.80          |\n",
      "|21.50          |70.70          |\n",
      "|22.00          |71.60          |\n",
      "|22.50          |72.50          |\n",
      "|23.00          |73.40          |\n",
      "|23.50          |74.30          |\n",
      "|24.00          |75.20          |\n",
      "|24.50          |76.10          |\n",
      "|25.00          |77.00          |\n",
      "|25.50          |77.90          |\n",
      "|26.00          |78.80          |\n",
      "|26.50          |79.70          |\n",
      "|27.00          |80.60          |\n",
      "|27.50          |81.50          |\n",
      "|28.00          |82.40          |\n",
      "|28.50          |83.30          |\n",
      "|29.00          |84.20          |\n",
      "|29.50          |85.10          |\n",
      "|30.00          |86.00          |\n",
      "|30.50          |86.90          |\n",
      "|31.00          |87.80          |\n",
      "|31.50          |88.70          |\n",
      "|32.00          |89.60          |\n",
      "|32.50          |90.50          |\n",
      "|33.00          |91.40          |\n",
      "|33.50          |92.30          |\n",
      "|34.00          |93.20          |\n",
      "|34.50          |94.10          |\n",
      "|35.00          |95.00          |\n",
      "|35.50          |95.90          |\n",
      "|36.00          |96.80          |\n",
      "|36.50          |97.70          |\n",
      "|37.00          |98.60          |\n",
      "|37.50          |99.50          |\n",
      "|38.00          |100.40         |\n",
      "|38.50          |101.30         |\n",
      "|39.00          |102.20         |\n",
      "|39.50          |103.10         |\n",
      "|40.00          |104.00         |\n",
      "|40.50          |104.90         |\n",
      "|41.00          |105.80         |\n",
      "|41.50          |106.70         |\n",
      "|42.00          |107.60         |\n",
      "|42.50          |108.50         |\n",
      "|43.00          |109.40         |\n",
      "|43.50          |110.30         |\n",
      "|44.00          |111.20         |\n",
      "|44.50          |112.10         |\n",
      "|45.00          |113.00         |\n",
      "|45.50          |113.90         |\n",
      "|46.00          |114.80         |\n",
      "|46.50          |115.70         |\n",
      "|47.00          |116.60         |\n",
      "|47.50          |117.50         |\n",
      "|48.00          |118.40         |\n",
      "|48.50          |119.30         |\n",
      "|49.00          |120.20         |\n",
      "|49.50          |121.10         |\n"
     ]
    }
   ],
   "source": [
    "def celsius_to_farenheit(celsius: float) -> float:\n",
    "    return celsius * 1.8 + 32\n",
    "\n",
    "\n",
    "def conversions_raw():\n",
    "    return [(0.5 * c, celsius_to_farenheit(0.5 * c)) for c in range(100)]\n",
    "\n",
    "\n",
    "def print_table():\n",
    "    print(f\"|{'Celsius':15}|{'Farenheit':15}|\")\n",
    "    print(f\"|{'=' * 31}|\")\n",
    "\n",
    "    for celsius, farenheit in conversions_raw():\n",
    "        print(f\"|{celsius:<15.2f}|{farenheit:<15.2f}|\")\n",
    "\n",
    "\n",
    "print_table()"
   ]
  }
 ],
 "metadata": {
  "kernelspec": {
   "display_name": "Python 3.10.6 ('laby')",
   "language": "python",
   "name": "python3"
  },
  "language_info": {
   "codemirror_mode": {
    "name": "ipython",
    "version": 3
   },
   "file_extension": ".py",
   "mimetype": "text/x-python",
   "name": "python",
   "nbconvert_exporter": "python",
   "pygments_lexer": "ipython3",
   "version": "3.10.6 (main, Oct 24 2022, 11:04:34) [Clang 12.0.0 ]"
  },
  "vscode": {
   "interpreter": {
    "hash": "0bd8afd9b71a091f2aef8658eef32a8925299151f29680775367af7620e6c12a"
   }
  }
 },
 "nbformat": 4,
 "nbformat_minor": 4
}
