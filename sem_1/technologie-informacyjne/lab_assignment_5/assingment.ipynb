{
 "cells": [
  {
   "cell_type": "code",
   "execution_count": 1,
   "metadata": {},
   "outputs": [
    {
     "ename": "ModuleNotFoundError",
     "evalue": "No module named 'jupyter_black # formater (pip install jupyter_black)'",
     "output_type": "error",
     "traceback": [
      "\u001b[0;31m---------------------------------------------------------------------------\u001b[0m",
      "\u001b[0;31mModuleNotFoundError\u001b[0m                       Traceback (most recent call last)",
      "Cell \u001b[0;32mIn [1], line 2\u001b[0m\n\u001b[1;32m      1\u001b[0m get_ipython()\u001b[39m.\u001b[39mrun_line_magic(\u001b[39m'\u001b[39m\u001b[39mmatplotlib\u001b[39m\u001b[39m'\u001b[39m, \u001b[39m'\u001b[39m\u001b[39mwidget\u001b[39m\u001b[39m'\u001b[39m)\n\u001b[0;32m----> 2\u001b[0m get_ipython()\u001b[39m.\u001b[39;49mrun_line_magic(\u001b[39m'\u001b[39;49m\u001b[39mload_ext\u001b[39;49m\u001b[39m'\u001b[39;49m, \u001b[39m'\u001b[39;49m\u001b[39mjupyter_black # formater (pip install jupyter_black)\u001b[39;49m\u001b[39m'\u001b[39;49m)\n\u001b[1;32m      4\u001b[0m \u001b[39m# jeśli wykresy nie będą działać - usuń (zakomentuj) powyższą linijkę i zrestartuj kernel notebooka\u001b[39;00m\n\u001b[1;32m      6\u001b[0m \u001b[39mimport\u001b[39;00m \u001b[39mnumpy\u001b[39;00m \u001b[39mas\u001b[39;00m \u001b[39mnp\u001b[39;00m\n",
      "File \u001b[0;32m/usr/local/anaconda3/envs/laby/lib/python3.10/site-packages/IPython/core/interactiveshell.py:2364\u001b[0m, in \u001b[0;36mInteractiveShell.run_line_magic\u001b[0;34m(self, magic_name, line, _stack_depth)\u001b[0m\n\u001b[1;32m   2362\u001b[0m     kwargs[\u001b[39m'\u001b[39m\u001b[39mlocal_ns\u001b[39m\u001b[39m'\u001b[39m] \u001b[39m=\u001b[39m \u001b[39mself\u001b[39m\u001b[39m.\u001b[39mget_local_scope(stack_depth)\n\u001b[1;32m   2363\u001b[0m \u001b[39mwith\u001b[39;00m \u001b[39mself\u001b[39m\u001b[39m.\u001b[39mbuiltin_trap:\n\u001b[0;32m-> 2364\u001b[0m     result \u001b[39m=\u001b[39m fn(\u001b[39m*\u001b[39;49margs, \u001b[39m*\u001b[39;49m\u001b[39m*\u001b[39;49mkwargs)\n\u001b[1;32m   2365\u001b[0m \u001b[39mreturn\u001b[39;00m result\n",
      "File \u001b[0;32m/usr/local/anaconda3/envs/laby/lib/python3.10/site-packages/IPython/core/magics/extension.py:33\u001b[0m, in \u001b[0;36mExtensionMagics.load_ext\u001b[0;34m(self, module_str)\u001b[0m\n\u001b[1;32m     31\u001b[0m \u001b[39mif\u001b[39;00m \u001b[39mnot\u001b[39;00m module_str:\n\u001b[1;32m     32\u001b[0m     \u001b[39mraise\u001b[39;00m UsageError(\u001b[39m'\u001b[39m\u001b[39mMissing module name.\u001b[39m\u001b[39m'\u001b[39m)\n\u001b[0;32m---> 33\u001b[0m res \u001b[39m=\u001b[39m \u001b[39mself\u001b[39;49m\u001b[39m.\u001b[39;49mshell\u001b[39m.\u001b[39;49mextension_manager\u001b[39m.\u001b[39;49mload_extension(module_str)\n\u001b[1;32m     35\u001b[0m \u001b[39mif\u001b[39;00m res \u001b[39m==\u001b[39m \u001b[39m'\u001b[39m\u001b[39malready loaded\u001b[39m\u001b[39m'\u001b[39m:\n\u001b[1;32m     36\u001b[0m     \u001b[39mprint\u001b[39m(\u001b[39m\"\u001b[39m\u001b[39mThe \u001b[39m\u001b[39m%s\u001b[39;00m\u001b[39m extension is already loaded. To reload it, use:\u001b[39m\u001b[39m\"\u001b[39m \u001b[39m%\u001b[39m module_str)\n",
      "File \u001b[0;32m/usr/local/anaconda3/envs/laby/lib/python3.10/site-packages/IPython/core/extensions.py:76\u001b[0m, in \u001b[0;36mExtensionManager.load_extension\u001b[0;34m(self, module_str)\u001b[0m\n\u001b[1;32m     69\u001b[0m \u001b[39m\"\"\"Load an IPython extension by its module name.\u001b[39;00m\n\u001b[1;32m     70\u001b[0m \n\u001b[1;32m     71\u001b[0m \u001b[39mReturns the string \"already loaded\" if the extension is already loaded,\u001b[39;00m\n\u001b[1;32m     72\u001b[0m \u001b[39m\"no load function\" if the module doesn't have a load_ipython_extension\u001b[39;00m\n\u001b[1;32m     73\u001b[0m \u001b[39mfunction, or None if it succeeded.\u001b[39;00m\n\u001b[1;32m     74\u001b[0m \u001b[39m\"\"\"\u001b[39;00m\n\u001b[1;32m     75\u001b[0m \u001b[39mtry\u001b[39;00m:\n\u001b[0;32m---> 76\u001b[0m     \u001b[39mreturn\u001b[39;00m \u001b[39mself\u001b[39;49m\u001b[39m.\u001b[39;49m_load_extension(module_str)\n\u001b[1;32m     77\u001b[0m \u001b[39mexcept\u001b[39;00m \u001b[39mModuleNotFoundError\u001b[39;00m:\n\u001b[1;32m     78\u001b[0m     \u001b[39mif\u001b[39;00m module_str \u001b[39min\u001b[39;00m BUILTINS_EXTS:\n",
      "File \u001b[0;32m/usr/local/anaconda3/envs/laby/lib/python3.10/site-packages/IPython/core/extensions.py:91\u001b[0m, in \u001b[0;36mExtensionManager._load_extension\u001b[0;34m(self, module_str)\u001b[0m\n\u001b[1;32m     89\u001b[0m \u001b[39mwith\u001b[39;00m \u001b[39mself\u001b[39m\u001b[39m.\u001b[39mshell\u001b[39m.\u001b[39mbuiltin_trap:\n\u001b[1;32m     90\u001b[0m     \u001b[39mif\u001b[39;00m module_str \u001b[39mnot\u001b[39;00m \u001b[39min\u001b[39;00m sys\u001b[39m.\u001b[39mmodules:\n\u001b[0;32m---> 91\u001b[0m         mod \u001b[39m=\u001b[39m import_module(module_str)\n\u001b[1;32m     92\u001b[0m     mod \u001b[39m=\u001b[39m sys\u001b[39m.\u001b[39mmodules[module_str]\n\u001b[1;32m     93\u001b[0m     \u001b[39mif\u001b[39;00m \u001b[39mself\u001b[39m\u001b[39m.\u001b[39m_call_load_ipython_extension(mod):\n",
      "File \u001b[0;32m/usr/local/anaconda3/envs/laby/lib/python3.10/importlib/__init__.py:126\u001b[0m, in \u001b[0;36mimport_module\u001b[0;34m(name, package)\u001b[0m\n\u001b[1;32m    124\u001b[0m             \u001b[39mbreak\u001b[39;00m\n\u001b[1;32m    125\u001b[0m         level \u001b[39m+\u001b[39m\u001b[39m=\u001b[39m \u001b[39m1\u001b[39m\n\u001b[0;32m--> 126\u001b[0m \u001b[39mreturn\u001b[39;00m _bootstrap\u001b[39m.\u001b[39;49m_gcd_import(name[level:], package, level)\n",
      "File \u001b[0;32m<frozen importlib._bootstrap>:1050\u001b[0m, in \u001b[0;36m_gcd_import\u001b[0;34m(name, package, level)\u001b[0m\n",
      "File \u001b[0;32m<frozen importlib._bootstrap>:1027\u001b[0m, in \u001b[0;36m_find_and_load\u001b[0;34m(name, import_)\u001b[0m\n",
      "File \u001b[0;32m<frozen importlib._bootstrap>:1004\u001b[0m, in \u001b[0;36m_find_and_load_unlocked\u001b[0;34m(name, import_)\u001b[0m\n",
      "\u001b[0;31mModuleNotFoundError\u001b[0m: No module named 'jupyter_black # formater (pip install jupyter_black)'"
     ]
    }
   ],
   "source": [
    "%matplotlib widget\n",
    "%load_ext jupyter_black # formater (pip install jupyter_black)\n",
    "\n",
    "# jeśli wykresy nie będą działać - usuń (zakomentuj) powyższą linijkę i zrestartuj kernel notebooka\n",
    "\n",
    "import numpy as np\n",
    "import matplotlib.pyplot as plt\n",
    "from sympy import Matrix # obsługuje display(...) -- pretty printing macierzy"
   ]
  },
  {
   "cell_type": "code",
   "execution_count": null,
   "metadata": {},
   "outputs": [],
   "source": []
  },
  {
   "cell_type": "markdown",
   "metadata": {},
   "source": [
    "---\n",
    "\n",
    "Użyj odpowiednich funkcji pakietu NumPy aby zdefiniować \n",
    "- macierz 3x3 o zadanych wartościach (dowolnych)\n",
    "- macierz jednostkową o wymiarze 3x3\n",
    "\n",
    "1. Oblicz \"ręcznie\" wyznaczniki wygenerowanych macierzy\n",
    "2. Porównaj uzyskane wyniki z funkcją ```np.linalg.det```\n"
   ]
  },
  {
   "cell_type": "code",
   "execution_count": null,
   "metadata": {},
   "outputs": [
    {
     "name": "stdout",
     "output_type": "stream",
     "text": [
      "-26\n",
      "-25.99999999999999\n"
     ]
    }
   ],
   "source": [
    "import numpy as np\n",
    "from functools import reduce\n",
    "\n",
    "MATRIX_A = np.matrix([[1, 2, 3], [4, 6, 7], [7, 4, 9]])\n",
    "\n",
    "IDENTITY = np.matrix(\n",
    "    [\n",
    "        [1, 0, 0],\n",
    "        [0, 1, 0],\n",
    "        [0, 0, 1],\n",
    "    ]\n",
    ")\n",
    "\n",
    "\n",
    "def add(a, b):\n",
    "    return a + b\n",
    "\n",
    "\n",
    "def determinant(matrix: np.matrix) -> int:\n",
    "    det = 0\n",
    "    for i in range(0, 3):\n",
    "        det = det + (\n",
    "            matrix[0, i]\n",
    "            * (\n",
    "                matrix[1, (i + 1) % 3] * matrix[2, (i + 2) % 3]\n",
    "                - matrix[1, (i + 2) % 3] * matrix[2, (i + 1) % 3]\n",
    "            )\n",
    "        )\n",
    "    return det\n",
    "\n",
    "\n",
    "print(determinant(MATRIX_A))\n",
    "print(np.linalg.det(MATRIX_A))"
   ]
  },
  {
   "cell_type": "code",
   "execution_count": null,
   "metadata": {},
   "outputs": [],
   "source": []
  },
  {
   "cell_type": "markdown",
   "metadata": {},
   "source": [
    "---\n",
    "\n",
    "Dany jest układ równań o postaci\n",
    "\n",
    "$$\n",
    "\\left\\{ \\begin{array}{ll}\n",
    "2x - y = -1\\\\\n",
    "3x +y =16\n",
    "\\end{array} \\right.\n",
    "$$\n",
    "\n",
    "          \n",
    "Rozwiąż ten układ równań metodą wyznaczników."
   ]
  },
  {
   "cell_type": "code",
   "execution_count": null,
   "metadata": {},
   "outputs": [
    {
     "name": "stdout",
     "output_type": "stream",
     "text": [
      "5.000000000000001 15.0 35.00000000000001\n",
      "x = 2.9999999999999996, y = 7.0\n"
     ]
    }
   ],
   "source": [
    "det = np.linalg.det(np.matrix([[2, -1], [3, 1]]))\n",
    "\n",
    "det_x = np.linalg.det(np.matrix([[-1, -1], [16, 1]]))\n",
    "\n",
    "det_y = np.linalg.det(np.matrix([[2, -1], [3, 16]]))\n",
    "\n",
    "print(det, det_x, det_y)\n",
    "\n",
    "if not det:\n",
    "    raise Exception(\"No solutions\")\n",
    "\n",
    "\n",
    "x = det_x / det\n",
    "y = det_y / det\n",
    "print(f\"x = {x}, y = {y}\")"
   ]
  },
  {
   "cell_type": "code",
   "execution_count": null,
   "metadata": {},
   "outputs": [],
   "source": []
  },
  {
   "cell_type": "markdown",
   "metadata": {},
   "source": [
    "Powyższy układ równań możemy zapisać \"macierzowo\" (zamiast x i y użyłem zapisu x_1 i x_2)\n",
    "\n",
    "$$\n",
    "\\begin{bmatrix}\n",
    "a_{11} & a_{12} \\\\\n",
    "a_{21} & a_{22}\n",
    "\\end{bmatrix}\n",
    "\\begin{bmatrix}\n",
    "x_1\\\\\n",
    "x_2\n",
    "\\end{bmatrix}\n",
    "=\n",
    "\\begin{bmatrix}\n",
    "c_1 \\\\\n",
    "c_2\n",
    "\\end{bmatrix}\n",
    "$$\n",
    "To samo możemy zapisać jako\n",
    "$$\n",
    "AX=C\n",
    "$$\n",
    "\n",
    "Gdybyśmy znali macierz odwrotną do A, to moglibyśmy obie strony tego równania przemnożyć lewostronnie:\n",
    "$$\n",
    "A^{-1}AX=A^{-1}C\n",
    "$$\n",
    "co dałoby nam\n",
    "$$\n",
    "IX=A^{-1}C\n",
    "$$\n",
    "czyli\n",
    "$$\n",
    "X=A^{-1}C\n",
    "$$\n",
    "\n",
    "Wykorzystajcie to, że w NumPy można podnieść macierz do dowolnej potęgi i spróbujcie w ten sposób rozwiązać powyższy uład równań"
   ]
  },
  {
   "cell_type": "code",
   "execution_count": null,
   "metadata": {},
   "outputs": [
    {
     "name": "stdout",
     "output_type": "stream",
     "text": [
      "[[ 2 -1]\n",
      " [ 3  1]]\n",
      "[[3.]\n",
      " [7.]]\n",
      "[[ 1. -0.]\n",
      " [-0.  1.]]\n"
     ]
    }
   ],
   "source": [
    "X = \"dupa\"\n",
    "A = np.matrix([[2, -1], [3, 1]])\n",
    "\n",
    "print(A)\n",
    "\n",
    "C = np.matrix([[-1], [16]])\n",
    "\n",
    "solution = np.matmul(A.I, C)\n",
    "print(solution)\n",
    "\n",
    "I = np.matmul(A.I, A)\n",
    "print(I.round(2))"
   ]
  },
  {
   "cell_type": "markdown",
   "metadata": {},
   "source": [
    "Porównaj uzyskane rezultaty z wynikiem działania funkcji ```np.linalg.solve```\n"
   ]
  },
  {
   "cell_type": "code",
   "execution_count": null,
   "metadata": {},
   "outputs": [
    {
     "name": "stdout",
     "output_type": "stream",
     "text": [
      "[[3.]\n",
      " [7.]]\n",
      "[[3.]\n",
      " [7.]]\n"
     ]
    }
   ],
   "source": [
    "solution_numpy = np.linalg.solve(A, np.matrix([[-1], [16]]))\n",
    "print(solution)\n",
    "print(solution_numpy)\n",
    "assert np.allclose(solution, solution_numpy)"
   ]
  },
  {
   "cell_type": "code",
   "execution_count": null,
   "metadata": {},
   "outputs": [],
   "source": []
  },
  {
   "cell_type": "markdown",
   "metadata": {},
   "source": [
    "---\n",
    "\n",
    "Proste wykresy funkcji możemy sobie stworzyć korzystając z następującej metody\n",
    "\n",
    "1. definiujemy wektor przechowujący kolejne wartości na osi OX, np. 100 wartości z zakresu 4...10\n",
    "\n",
    "x = np.linspace(4, 10, 100)\n",
    "\n",
    "2. obliczamy wartości funkcji w tych punktach\n",
    "\n",
    "y = 2*x+2\n",
    "\n",
    "3. rysujemy wykres\n",
    "\n",
    "plt.plot(x, y)\n",
    "\n",
    "\n",
    "Narysuj graficzne rozwiązanie powyższego układu równań\n"
   ]
  },
  {
   "cell_type": "code",
   "execution_count": null,
   "metadata": {},
   "outputs": [
    {
     "data": {
      "text/plain": [
       "[<matplotlib.lines.Line2D at 0x7fa342215db0>]"
      ]
     },
     "execution_count": 32,
     "metadata": {},
     "output_type": "execute_result"
    },
    {
     "data": {
      "application/vnd.jupyter.widget-view+json": {
       "model_id": "12045ed4fed340ac907a996de68ed166",
       "version_major": 2,
       "version_minor": 0
      },
      "image/png": "[encoded data removed]",
      "text/html": [
       "\n",
       "            <div style=\"display: inline-block;\">\n",
       "                <div class=\"jupyter-widgets widget-label\" style=\"text-align: center;\">\n",
       "                    Figure\n",
       "                </div>\n",
       "                <img src='data:image/png;base64,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' width=640.0/>\n",
       "            </div>\n",
       "        "
      ],
      "text/plain": [
       "Canvas(toolbar=Toolbar(toolitems=[('Home', 'Reset original view', 'home', 'home'), ('Back', 'Back to previous …"
      ]
     },
     "metadata": {},
     "output_type": "display_data"
    }
   ],
   "source": [
    "#%%\n",
    "# przekształćmy równanie do postaci \"funkcyjnej\"\n",
    "# 2x - y = -1\n",
    "# 3x + y = 16\n",
    "#\n",
    "x = np.linspace(4, 10, 100)\n",
    "y_1 = lambda x: 1 + 2 * x\n",
    "y_2 = lambda x: 16 - 3 * x\n",
    "# y =\n",
    "\n",
    "# nasze rozwiązanie jest w okolicach punktu (3,7)\n",
    "\n",
    "# wykres 1\n",
    "#%%\n",
    "plt.figure()\n",
    "plt.plot(y_1(x))\n",
    "plt.plot(y_2(x))\n",
    "# wykres 2"
   ]
  },
  {
   "cell_type": "code",
   "execution_count": null,
   "metadata": {},
   "outputs": [],
   "source": []
  },
  {
   "cell_type": "code",
   "execution_count": null,
   "metadata": {},
   "outputs": [],
   "source": []
  },
  {
   "cell_type": "code",
   "execution_count": null,
   "metadata": {},
   "outputs": [],
   "source": []
  },
  {
   "cell_type": "markdown",
   "metadata": {},
   "source": [
    "---\n",
    "Przetestuj działanie funkcji ```np.hstack``` i ```np.vstack``` aby \"skleić\" ze sobą dwie wygenerowane na początku zajęć macierze"
   ]
  },
  {
   "cell_type": "code",
   "execution_count": null,
   "metadata": {},
   "outputs": [
    {
     "data": {
      "text/plain": [
       "matrix([[1, 2, 3],\n",
       "        [4, 6, 7],\n",
       "        [7, 4, 9],\n",
       "        [1, 0, 0],\n",
       "        [0, 1, 0],\n",
       "        [0, 0, 1]])"
      ]
     },
     "execution_count": 33,
     "metadata": {},
     "output_type": "execute_result"
    }
   ],
   "source": [
    "np.hstack((MATRIX_A, IDENTITY))\n",
    "np.vstack((MATRIX_A, IDENTITY))"
   ]
  },
  {
   "cell_type": "markdown",
   "metadata": {},
   "source": [
    "---\n",
    "\n",
    "Jedną z metod wyznaczania macierzy odwrotnej jest metoda eliminacji Gaussa-Jordana. Polega ona na tym, że do naszej macierzy A \"doklejamy\" macierz jednostkową I\n",
    "\n",
    "[ A | I ]\n",
    "\n",
    "Teraz, stosując dozwolone operacje \n",
    "- mnożenie wiersza przez stałą <> 0\n",
    "- dodawanie do wiersza innego wiersza (przemnożonego przez stałą <> 0)\n",
    "- zamianę wierszy miejscami\n",
    "\n",
    "dążymy do tego, aby uzyskać macierz postaci [ I | B ]\n",
    "\n",
    "Jeśli nam się to uda, to B będzie macierzą odwrotną do A.\n"
   ]
  },
  {
   "cell_type": "code",
   "execution_count": null,
   "metadata": {},
   "outputs": [
    {
     "name": "stdout",
     "output_type": "stream",
     "text": [
      "[[5 6]\n",
      " [4 5]]\n"
     ]
    }
   ],
   "source": [
    "# przykład:\n",
    "\n",
    "A = np.matrix([[5, 6], [4, 5]])\n",
    "print(A)"
   ]
  },
  {
   "cell_type": "code",
   "execution_count": null,
   "metadata": {},
   "outputs": [
    {
     "name": "stdout",
     "output_type": "stream",
     "text": [
      "[[1. 0.]\n",
      " [0. 1.]]\n"
     ]
    }
   ],
   "source": [
    "I = np.eye(2)\n",
    "print(I)"
   ]
  },
  {
   "cell_type": "code",
   "execution_count": null,
   "metadata": {},
   "outputs": [
    {
     "name": "stdout",
     "output_type": "stream",
     "text": [
      "[[5. 6. 1. 0.]\n",
      " [4. 5. 0. 1.]]\n"
     ]
    }
   ],
   "source": [
    "M = np.hstack([A, I])\n",
    "print(M)"
   ]
  },
  {
   "cell_type": "code",
   "execution_count": null,
   "metadata": {},
   "outputs": [
    {
     "name": "stdout",
     "output_type": "stream",
     "text": [
      "[[ 5.   6.   1.   0. ]\n",
      " [ 0.   0.2 -0.8  1. ]]\n"
     ]
    }
   ],
   "source": [
    "# odejmijmy od drugiego wiersza wiersz pierwszy przemnożony przez 4/5\n",
    "M[1, :] -= 4 / 5 * M[0, :]\n",
    "print(M)"
   ]
  },
  {
   "cell_type": "code",
   "execution_count": null,
   "metadata": {},
   "outputs": [
    {
     "name": "stdout",
     "output_type": "stream",
     "text": [
      "[[  5.    0.   25.  -30. ]\n",
      " [  0.    0.2  -0.8   1. ]]\n"
     ]
    }
   ],
   "source": [
    "# od pierwszego wiersza odejmijmy wiersz drugi przemnożony przez 30\n",
    "M[0, :] -= 30 * M[1, :]\n",
    "print(M.round(2))"
   ]
  },
  {
   "cell_type": "code",
   "execution_count": null,
   "metadata": {},
   "outputs": [
    {
     "name": "stdout",
     "output_type": "stream",
     "text": [
      "[[ 1.00000000e+00  4.26325641e-15  5.00000000e+00 -6.00000000e+00]\n",
      " [ 0.00000000e+00  1.00000000e+00 -4.00000000e+00  5.00000000e+00]]\n"
     ]
    }
   ],
   "source": [
    "# podzielmy pierwszy wiersz przez 5 i drugi przez 0.2\n",
    "M[0, :] /= 5\n",
    "M[1, :] /= 0.2\n",
    "\n",
    "print(M)"
   ]
  },
  {
   "cell_type": "code",
   "execution_count": null,
   "metadata": {},
   "outputs": [
    {
     "name": "stdout",
     "output_type": "stream",
     "text": [
      "[[ 1.00000000e+00  4.26325641e-15  5.00000000e+00 -6.00000000e+00]\n",
      " [ 0.00000000e+00  1.00000000e+00 -4.00000000e+00  5.00000000e+00]]\n"
     ]
    }
   ],
   "source": [
    "# czy to co jest po lewej stronie jest wystarczająco bliskie macierzy jednostkowej ?\n",
    "\n",
    "print(M)\n",
    "# print (M.round(2))"
   ]
  },
  {
   "cell_type": "code",
   "execution_count": null,
   "metadata": {},
   "outputs": [],
   "source": [
    "# wyciągnijmy \"prawą\" stronę\n",
    "B = M[:, 2:]"
   ]
  },
  {
   "cell_type": "code",
   "execution_count": null,
   "metadata": {},
   "outputs": [
    {
     "name": "stdout",
     "output_type": "stream",
     "text": [
      "[[ 5. -6.]\n",
      " [-4.  5.]]\n",
      "[[ 5. -6.]\n",
      " [-4.  5.]]\n"
     ]
    }
   ],
   "source": [
    "# czy B ==  A^{-1} ?\n",
    "\n",
    "print(B)\n",
    "print(A**-1)\n",
    "\n",
    "# Czy A*A^{-1} == I ?"
   ]
  },
  {
   "cell_type": "markdown",
   "metadata": {},
   "source": [
    "Stosując powyższą metodę - wyznacz macierz odwrotną do macierzy\n",
    "\n",
    "$$\n",
    "\\begin{bmatrix}\n",
    "1 & 2 & 3 \\\\\n",
    "0 & 1 & 4 \\\\\n",
    "5 & 6 & 0\n",
    "\\end{bmatrix}\n",
    "$$\n"
   ]
  },
  {
   "cell_type": "code",
   "execution_count": null,
   "metadata": {},
   "outputs": [
    {
     "data": {
      "text/latex": [
       "$\\displaystyle \\left[\\begin{matrix}1.0 & 1.0 & -1.0\\\\0 & 2.0 i & 1.0 i\\\\3.0 & 0 & 1.0\\end{matrix}\\right]$"
      ],
      "text/plain": [
       "Matrix([\n",
       "[1.0,   1.0,  -1.0],\n",
       "[  0, 2.0*I, 1.0*I],\n",
       "[3.0,     0,   1.0]])"
      ]
     },
     "metadata": {},
     "output_type": "display_data"
    }
   ],
   "source": [
    "A = np.matrix([[1, 1, -1], [0, 2j, 1j], [3, 0, 1]])\n",
    "display(Matrix(A))"
   ]
  },
  {
   "cell_type": "code",
   "execution_count": null,
   "metadata": {},
   "outputs": [
    {
     "data": {
      "text/latex": [
       "$\\displaystyle \\left[\\begin{matrix}1.0 & 1.0 & -1.0 & 1.0 & 0 & 0\\\\0 & 2.0 i & 1.0 i & 0 & 1.0 & 0\\\\3.0 & 0 & 1.0 & 0 & 0 & 1.0\\end{matrix}\\right]$"
      ],
      "text/plain": [
       "Matrix([\n",
       "[1.0,   1.0,  -1.0, 1.0,   0,   0],\n",
       "[  0, 2.0*I, 1.0*I,   0, 1.0,   0],\n",
       "[3.0,     0,   1.0,   0,   0, 1.0]])"
      ]
     },
     "metadata": {},
     "output_type": "display_data"
    }
   ],
   "source": [
    "S = np.hstack((A, np.eye(3)))\n",
    "display(Matrix(S))"
   ]
  },
  {
   "cell_type": "code",
   "execution_count": null,
   "metadata": {},
   "outputs": [
    {
     "data": {
      "text/latex": [
       "$\\displaystyle \\left[\\begin{matrix}1.0 & 1.0 & -1.0 & 1.0 & 0 & 0\\\\0 & 2.0 i & 1.0 i & 0 & 1.0 & 0\\\\3.0 & 0 & 1.0 & 0 & 0 & 1.0\\end{matrix}\\right]$"
      ],
      "text/plain": [
       "Matrix([\n",
       "[1.0,   1.0,  -1.0, 1.0,   0,   0],\n",
       "[  0, 2.0*I, 1.0*I,   0, 1.0,   0],\n",
       "[3.0,     0,   1.0,   0,   0, 1.0]])"
      ]
     },
     "metadata": {},
     "output_type": "display_data"
    }
   ],
   "source": [
    "S[2, :]\n",
    "display(Matrix(S))"
   ]
  },
  {
   "cell_type": "code",
   "execution_count": null,
   "metadata": {},
   "outputs": [],
   "source": []
  },
  {
   "cell_type": "code",
   "execution_count": null,
   "metadata": {},
   "outputs": [],
   "source": []
  },
  {
   "cell_type": "code",
   "execution_count": null,
   "metadata": {},
   "outputs": [],
   "source": []
  },
  {
   "cell_type": "code",
   "execution_count": null,
   "metadata": {},
   "outputs": [],
   "source": []
  },
  {
   "cell_type": "code",
   "execution_count": null,
   "metadata": {},
   "outputs": [],
   "source": []
  },
  {
   "cell_type": "code",
   "execution_count": null,
   "metadata": {},
   "outputs": [],
   "source": []
  }
 ],
 "metadata": {
  "kernelspec": {
   "display_name": "laby",
   "language": "python",
   "name": "python3"
  },
  "language_info": {
   "codemirror_mode": {
    "name": "ipython",
    "version": 3
   },
   "file_extension": ".py",
   "mimetype": "text/x-python",
   "name": "python",
   "nbconvert_exporter": "python",
   "pygments_lexer": "ipython3",
   "version": "3.10.6"
  },
  "vscode": {
   "interpreter": {
    "hash": "0bd8afd9b71a091f2aef8658eef32a8925299151f29680775367af7620e6c12a"
   }
  }
 },
 "nbformat": 4,
 "nbformat_minor": 4
}
