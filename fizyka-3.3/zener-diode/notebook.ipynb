{
 "cells": [
  {
   "cell_type": "code",
   "execution_count": 10,
   "metadata": {},
   "outputs": [],
   "source": [
    "import numpy as np\n",
    "import pandas as pd\n",
    "from matplotlib import pyplot as plt\n",
    "from typing import List\n",
    "from pydantic import BaseModel\n",
    "from sklearn.linear_model import LinearRegression\n",
    "\n",
    "import sys\n",
    "\n",
    "sys.path.append(\"../\")"
   ]
  },
  {
   "cell_type": "code",
   "execution_count": 11,
   "metadata": {},
   "outputs": [
    {
     "data": {
      "image/png": "[encoded data removed]",
      "text/plain": [
       "<Figure size 640x480 with 1 Axes>"
      ]
     },
     "metadata": {},
     "output_type": "display_data"
    },
    {
     "name": "stdout",
     "output_type": "stream",
     "text": [
      "a=0.009054346093305818 b=12.4803559584228\n"
     ]
    }
   ],
   "source": [
    "from processing.linear_regression import get_regression\n",
    "\n",
    "df = pd.read_csv(\"data/multimeter_data/sanitized/zener-z-4.csv\", index_col=False, header=0)\n",
    "\n",
    "voltage = df[\"U\"].to_numpy()\n",
    "current = df[\"I\"].to_numpy()\n",
    "\n",
    "data, vals, model = get_regression(voltage, current)\n",
    "\n",
    "plt.figure()\n",
    "plt.grid()\n",
    "plt.xlabel(\"U[V]\")\n",
    "plt.ylabel(\"I[A]\")\n",
    "plt.plot(vals, model.predict(vals), color=\"orange\")\n",
    "plt.scatter(df[\"U\"], df[\"I\"], zorder=-1, s=2)\n",
    "plt.scatter(700, 50, zorder=-1, s=20)\n",
    "# plt.plot(_x, regression_model.predict(_x), color=\"orange\")\n",
    "plt.show()\n",
    "\n",
    "print(data)"
   ]
  },
  {
   "cell_type": "code",
   "execution_count": 12,
   "metadata": {},
   "outputs": [
    {
     "name": "stdout",
     "output_type": "stream",
     "text": [
      "None\n"
     ]
    },
    {
     "ename": "AttributeError",
     "evalue": "'NoneType' object has no attribute 'uncertainty'",
     "output_type": "error",
     "traceback": [
      "\u001b[0;31m---------------------------------------------------------------------------\u001b[0m",
      "\u001b[0;31mAttributeError\u001b[0m                            Traceback (most recent call last)",
      "Cell \u001b[0;32mIn[12], line 27\u001b[0m\n\u001b[1;32m      4\u001b[0m BRYMEN_BM811_VOLTAGE \u001b[39m=\u001b[39m DeviceUncertainty(\n\u001b[1;32m      5\u001b[0m     device_name\u001b[39m=\u001b[39m\u001b[39m\"\u001b[39m\u001b[39mBrymenB811\u001b[39m\u001b[39m\"\u001b[39m,\n\u001b[1;32m      6\u001b[0m     probing_specs\u001b[39m=\u001b[39m[\n\u001b[0;32m   (...)\u001b[0m\n\u001b[1;32m     23\u001b[0m     ]\n\u001b[1;32m     24\u001b[0m )\n\u001b[1;32m     25\u001b[0m \u001b[39m# print(BRYMEN_BM811_VOLTAGE)\u001b[39;00m\n\u001b[0;32m---> 27\u001b[0m df[\u001b[39m\"\u001b[39m\u001b[39mu(U)\u001b[39m\u001b[39m\"\u001b[39m] \u001b[39m=\u001b[39m [compute_uncertainty(v, BRYMEN_BM811_VOLTAGE) \u001b[39mfor\u001b[39;49;00m v \u001b[39min\u001b[39;49;00m voltage]\n",
      "Cell \u001b[0;32mIn[12], line 27\u001b[0m, in \u001b[0;36m<listcomp>\u001b[0;34m(.0)\u001b[0m\n\u001b[1;32m      4\u001b[0m BRYMEN_BM811_VOLTAGE \u001b[39m=\u001b[39m DeviceUncertainty(\n\u001b[1;32m      5\u001b[0m     device_name\u001b[39m=\u001b[39m\u001b[39m\"\u001b[39m\u001b[39mBrymenB811\u001b[39m\u001b[39m\"\u001b[39m,\n\u001b[1;32m      6\u001b[0m     probing_specs\u001b[39m=\u001b[39m[\n\u001b[0;32m   (...)\u001b[0m\n\u001b[1;32m     23\u001b[0m     ]\n\u001b[1;32m     24\u001b[0m )\n\u001b[1;32m     25\u001b[0m \u001b[39m# print(BRYMEN_BM811_VOLTAGE)\u001b[39;00m\n\u001b[0;32m---> 27\u001b[0m df[\u001b[39m\"\u001b[39m\u001b[39mu(U)\u001b[39m\u001b[39m\"\u001b[39m] \u001b[39m=\u001b[39m [compute_uncertainty(v, BRYMEN_BM811_VOLTAGE) \u001b[39mfor\u001b[39;00m v \u001b[39min\u001b[39;00m voltage]\n",
      "File \u001b[0;32m~/Documents/Development/air-cs/fizyka-3.3/zener-diode/../processing/uncertainty.py:32\u001b[0m, in \u001b[0;36mcompute_uncertainty\u001b[0;34m(input_value, device_specs)\u001b[0m\n\u001b[1;32m     28\u001b[0m \u001b[39m# uncertainty = device_specs.probing_specs[0][1]\u001b[39;00m\n\u001b[1;32m     29\u001b[0m \u001b[39mprint\u001b[39m(uncertainty)\n\u001b[1;32m     31\u001b[0m \u001b[39mreturn\u001b[39;00m \u001b[39mabs\u001b[39m(\n\u001b[0;32m---> 32\u001b[0m     input_value \u001b[39m*\u001b[39m uncertainty\u001b[39m.\u001b[39;49muncertainty\n\u001b[1;32m     33\u001b[0m     \u001b[39m+\u001b[39m (uncertainty\u001b[39m.\u001b[39mc_constant \u001b[39m*\u001b[39m uncertainty\u001b[39m.\u001b[39mlsd_magnitude)\n\u001b[1;32m     34\u001b[0m ) \u001b[39m/\u001b[39m sqrt(\u001b[39m3\u001b[39m)\n",
      "\u001b[0;31mAttributeError\u001b[0m: 'NoneType' object has no attribute 'uncertainty'"
     ]
    }
   ],
   "source": [
    "# from processing.devices import BRYMEN_BM811_VOLTAGE\n",
    "from processing.uncertainty import compute_uncertainty, DeviceUncertainty, Uncertainty\n",
    "\n",
    "BRYMEN_BM811_VOLTAGE = DeviceUncertainty(\n",
    "    device_name=\"BrymenB811\",\n",
    "    probing_specs=[\n",
    "    (\n",
    "        50,\n",
    "        Uncertainty(\n",
    "            uncentainty=0.0012,\n",
    "            lsd_magnitude=0.01,\n",
    "            c_constant=2\n",
    "        )\n",
    "    ),\n",
    "    (\n",
    "        500,\n",
    "        Uncertainty(\n",
    "            uncentainty=0.0006,\n",
    "            lsd_magnitude=0.01,\n",
    "            c_constant=2\n",
    "        )\n",
    "    )\n",
    "    ]\n",
    ")\n",
    "# print(BRYMEN_BM811_VOLTAGE)\n",
    "\n",
    "df[\"u(U)\"] = [compute_uncertainty(v, BRYMEN_BM811_VOLTAGE) for v in voltage]"
   ]
  }
 ],
 "metadata": {
  "kernelspec": {
   "display_name": "data",
   "language": "python",
   "name": "python3"
  },
  "language_info": {
   "codemirror_mode": {
    "name": "ipython",
    "version": 3
   },
   "file_extension": ".py",
   "mimetype": "text/x-python",
   "name": "python",
   "nbconvert_exporter": "python",
   "pygments_lexer": "ipython3",
   "version": "3.11.0"
  },
  "orig_nbformat": 4
 },
 "nbformat": 4,
 "nbformat_minor": 2
}
