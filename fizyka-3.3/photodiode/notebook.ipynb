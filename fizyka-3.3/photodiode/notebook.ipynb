{
 "cells": [
  {
   "cell_type": "code",
   "execution_count": 92,
   "metadata": {},
   "outputs": [],
   "source": [
    "import pandas as pd\n",
    "import numpy as np\n",
    "import matplotlib.pyplot as plt\n",
    "import statsmodels.api as sm\n",
    "from pywr.uncertainties.uncertainty import uncertainty\n",
    "from pywr.uncertainties.format import rounded_uncertainty_with_nominal_value\n",
    "from pywr.uncertainties.devices import BRYMEN_BM811_CURRENT, BRYMEN_BM811_VOLTAGE"
   ]
  },
  {
   "cell_type": "code",
   "execution_count": 93,
   "metadata": {},
   "outputs": [],
   "source": [
    "COVERED_DATA_PATH = \"data/cov.csv\""
   ]
  },
  {
   "cell_type": "code",
   "execution_count": 94,
   "metadata": {},
   "outputs": [],
   "source": [
    "def compute_uncertainties(df: pd.DataFrame) -> pd.DataFrame:\n",
    "    \"\"\"Compute uncertainties for the given DataFrame.\n",
    "\n",
    "    Args:\n",
    "        df (pd.DataFrame): DataFrame with the data.\n",
    "\n",
    "    Returns:\n",
    "        pd.DataFrame: DataFrame with the data and uncertainties.\n",
    "    \"\"\"\n",
    "    df[\"u(U)\"] = df[\"U\"].apply(\n",
    "        lambda u: uncertainty(abs(u), 0.001, BRYMEN_BM811_VOLTAGE)\n",
    "    )\n",
    "    df[\"u(I)\"] = df[\"I\"].apply(\n",
    "        lambda i: uncertainty(abs(i), 0.001, BRYMEN_BM811_CURRENT)\n",
    "    )\n",
    "    df[\"ln(I)\"] = df[\"I\"].apply(np.abs).apply(np.log)\n",
    "    df[\"u(ln(I))\"] = [\n",
    "        abs(u_i / i) if i != 0 else 0 for i, u_i in zip(df[\"I\"], df[\"u(I)\"])\n",
    "    ]\n",
    "\n",
    "    return df"
   ]
  },
  {
   "cell_type": "code",
   "execution_count": 95,
   "metadata": {},
   "outputs": [],
   "source": [
    "def format_sample_data(df: pd.DataFrame) -> pd.DataFrame:\n",
    "    voltage_with_uncertainty = [\n",
    "        rounded_uncertainty_with_nominal_value(u, uu)\n",
    "        for u, uu in zip(df[\"U\"], df[\"u(U)\"])\n",
    "    ]\n",
    "    current_with_uncertainty = [\n",
    "        rounded_uncertainty_with_nominal_value(i, ui)\n",
    "        for i, ui in zip(df[\"I\"], df[\"u(I)\"])\n",
    "    ]\n",
    "\n",
    "    logarithm_with_uncertainty = [\n",
    "        rounded_uncertainty_with_nominal_value(ln_i, u_ln_i)\n",
    "        for ln_i, u_ln_i in zip(df[\"ln(I)\"], df[\"u(ln(I))\"])\n",
    "    ]\n",
    "\n",
    "    df[\"U\"], df[\"u(U)\"] = [u for u, _ in voltage_with_uncertainty], [\n",
    "        uu for _, uu in voltage_with_uncertainty\n",
    "    ]\n",
    "    df[\"I\"], df[\"u(I)\"] = [i for i, _ in current_with_uncertainty], [\n",
    "        ui for _, ui in current_with_uncertainty\n",
    "    ]\n",
    "\n",
    "    df[\"ln(I)\"], df[\"u(ln(I))\"] = [ln_i for ln_i, _ in logarithm_with_uncertainty], [\n",
    "        u_ln_i for _, u_ln_i in logarithm_with_uncertainty\n",
    "    ]\n",
    "\n",
    "    df = df.reindex(columns=[\"U\", \"u(U)\", \"I\", \"u(I)\", \"ln(I)\", \"u(ln(I))\"])\n",
    "\n",
    "    return df"
   ]
  },
  {
   "attachments": {},
   "cell_type": "markdown",
   "metadata": {},
   "source": [
    "# Covered photodiode"
   ]
  },
  {
   "attachments": {},
   "cell_type": "markdown",
   "metadata": {},
   "source": [
    "## Sample data for covered photodiode"
   ]
  },
  {
   "cell_type": "code",
   "execution_count": 96,
   "metadata": {},
   "outputs": [
    {
     "data": {
      "text/html": [
       "<div>\n",
       "<style scoped>\n",
       "    .dataframe tbody tr th:only-of-type {\n",
       "        vertical-align: middle;\n",
       "    }\n",
       "\n",
       "    .dataframe tbody tr th {\n",
       "        vertical-align: top;\n",
       "    }\n",
       "\n",
       "    .dataframe thead th {\n",
       "        text-align: right;\n",
       "    }\n",
       "</style>\n",
       "<table border=\"1\" class=\"dataframe\">\n",
       "  <thead>\n",
       "    <tr style=\"text-align: right;\">\n",
       "      <th></th>\n",
       "      <th>U</th>\n",
       "      <th>u(U)</th>\n",
       "      <th>I</th>\n",
       "      <th>u(I)</th>\n",
       "      <th>ln(I)</th>\n",
       "      <th>u(ln(I))</th>\n",
       "    </tr>\n",
       "  </thead>\n",
       "  <tbody>\n",
       "    <tr>\n",
       "      <th>0</th>\n",
       "      <td>637.0</td>\n",
       "      <td>1.4</td>\n",
       "      <td>3.40</td>\n",
       "      <td>0.23</td>\n",
       "      <td>1.225</td>\n",
       "      <td>0.069</td>\n",
       "    </tr>\n",
       "    <tr>\n",
       "      <th>1</th>\n",
       "      <td>716.0</td>\n",
       "      <td>1.4</td>\n",
       "      <td>8.40</td>\n",
       "      <td>0.24</td>\n",
       "      <td>2.129</td>\n",
       "      <td>0.029</td>\n",
       "    </tr>\n",
       "    <tr>\n",
       "      <th>2</th>\n",
       "      <td>728.0</td>\n",
       "      <td>1.4</td>\n",
       "      <td>9.60</td>\n",
       "      <td>0.24</td>\n",
       "      <td>2.261</td>\n",
       "      <td>0.025</td>\n",
       "    </tr>\n",
       "    <tr>\n",
       "      <th>3</th>\n",
       "      <td>734.0</td>\n",
       "      <td>1.4</td>\n",
       "      <td>10.21</td>\n",
       "      <td>0.24</td>\n",
       "      <td>2.323</td>\n",
       "      <td>0.024</td>\n",
       "    </tr>\n",
       "    <tr>\n",
       "      <th>4</th>\n",
       "      <td>734.0</td>\n",
       "      <td>1.4</td>\n",
       "      <td>10.14</td>\n",
       "      <td>0.24</td>\n",
       "      <td>2.316</td>\n",
       "      <td>0.024</td>\n",
       "    </tr>\n",
       "    <tr>\n",
       "      <th>5</th>\n",
       "      <td>738.0</td>\n",
       "      <td>1.4</td>\n",
       "      <td>10.64</td>\n",
       "      <td>0.24</td>\n",
       "      <td>2.364</td>\n",
       "      <td>0.023</td>\n",
       "    </tr>\n",
       "    <tr>\n",
       "      <th>6</th>\n",
       "      <td>748.0</td>\n",
       "      <td>1.4</td>\n",
       "      <td>11.81</td>\n",
       "      <td>0.24</td>\n",
       "      <td>2.469</td>\n",
       "      <td>0.021</td>\n",
       "    </tr>\n",
       "    <tr>\n",
       "      <th>7</th>\n",
       "      <td>753.0</td>\n",
       "      <td>1.4</td>\n",
       "      <td>12.34</td>\n",
       "      <td>0.25</td>\n",
       "      <td>2.513</td>\n",
       "      <td>0.020</td>\n",
       "    </tr>\n",
       "    <tr>\n",
       "      <th>8</th>\n",
       "      <td>801.0</td>\n",
       "      <td>1.4</td>\n",
       "      <td>19.83</td>\n",
       "      <td>0.25</td>\n",
       "      <td>2.987</td>\n",
       "      <td>0.013</td>\n",
       "    </tr>\n",
       "    <tr>\n",
       "      <th>9</th>\n",
       "      <td>871.0</td>\n",
       "      <td>1.5</td>\n",
       "      <td>36.00</td>\n",
       "      <td>0.27</td>\n",
       "      <td>3.5835</td>\n",
       "      <td>0.0076</td>\n",
       "    </tr>\n",
       "  </tbody>\n",
       "</table>\n",
       "</div>"
      ],
      "text/plain": [
       "       U u(U)      I  u(I)   ln(I) u(ln(I))\n",
       "0  637.0  1.4   3.40  0.23   1.225    0.069\n",
       "1  716.0  1.4   8.40  0.24   2.129    0.029\n",
       "2  728.0  1.4   9.60  0.24   2.261    0.025\n",
       "3  734.0  1.4  10.21  0.24   2.323    0.024\n",
       "4  734.0  1.4  10.14  0.24   2.316    0.024\n",
       "5  738.0  1.4  10.64  0.24   2.364    0.023\n",
       "6  748.0  1.4  11.81  0.24   2.469    0.021\n",
       "7  753.0  1.4  12.34  0.25   2.513    0.020\n",
       "8  801.0  1.4  19.83  0.25   2.987    0.013\n",
       "9  871.0  1.5  36.00  0.27  3.5835   0.0076"
      ]
     },
     "metadata": {},
     "output_type": "display_data"
    }
   ],
   "source": [
    "def predicate(row):\n",
    "    return row[\"I\"] > 0 and row[\"ln(I)\"] > 0 and row[\"u(ln(I))\"] < 0.1\n",
    "\n",
    "\n",
    "df = pd.read_csv(COVERED_DATA_PATH, sep=\";\")\n",
    "df = compute_uncertainties(df)\n",
    "sample = df.loc[df.apply(predicate, axis=1)].sample(10)\n",
    "sample = format_sample_data(sample)\n",
    "sample.sort_values(by=\"U\", inplace=True)\n",
    "sample.reset_index(drop=True, inplace=True)\n",
    "display(sample)"
   ]
  },
  {
   "attachments": {},
   "cell_type": "markdown",
   "metadata": {},
   "source": [
    "## Voltage-current "
   ]
  },
  {
   "cell_type": "code",
   "execution_count": 97,
   "metadata": {},
   "outputs": [
    {
     "data": {
      "text/plain": [
       "<ErrorbarContainer object of 3 artists>"
      ]
     },
     "execution_count": 97,
     "metadata": {},
     "output_type": "execute_result"
    },
    {
     "data": {
      "image/png": "[encoded data removed]",
      "text/plain": [
       "<Figure size 640x480 with 1 Axes>"
      ]
     },
     "metadata": {},
     "output_type": "display_data"
    }
   ],
   "source": [
    "df = pd.read_csv(COVERED_DATA_PATH, sep=\";\")\n",
    "df = compute_uncertainties(df)\n",
    "\n",
    "plt.figure()\n",
    "plt.errorbar(df[\"U\"], df[\"I\"], xerr=df[\"u(U)\"], yerr=df[\"u(I)\"], fmt=\"o\")"
   ]
  },
  {
   "attachments": {},
   "cell_type": "markdown",
   "metadata": {},
   "source": [
    "## Logarithmic scale"
   ]
  },
  {
   "cell_type": "code",
   "execution_count": 103,
   "metadata": {},
   "outputs": [
    {
     "data": {
      "image/png": "[encoded data removed]",
      "text/plain": [
       "<Figure size 640x480 with 1 Axes>"
      ]
     },
     "metadata": {},
     "output_type": "display_data"
    }
   ],
   "source": [
    "def predicate(row):\n",
    "    return row[\"U\"] > 450\n",
    "\n",
    "\n",
    "df = pd.read_csv(COVERED_DATA_PATH, sep=\";\")\n",
    "df = df.loc[df.apply(predicate, axis=1)]\n",
    "df = compute_uncertainties(df)\n",
    "\n",
    "plt.figure()\n",
    "plt.errorbar(df[\"U\"], df[\"ln(I)\"], xerr=df[\"u(U)\"])\n",
    "plt.grid()\n",
    "plt.show()"
   ]
  }
 ],
 "metadata": {
  "kernelspec": {
   "display_name": "data",
   "language": "python",
   "name": "python3"
  },
  "language_info": {
   "codemirror_mode": {
    "name": "ipython",
    "version": 3
   },
   "file_extension": ".py",
   "mimetype": "text/x-python",
   "name": "python",
   "nbconvert_exporter": "python",
   "pygments_lexer": "ipython3",
   "version": "3.11.0"
  },
  "orig_nbformat": 4
 },
 "nbformat": 4,
 "nbformat_minor": 2
}
