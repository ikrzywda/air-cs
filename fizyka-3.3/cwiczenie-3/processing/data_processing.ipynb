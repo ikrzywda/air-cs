{
 "cells": [
  {
   "cell_type": "code",
   "execution_count": 4,
   "metadata": {},
   "outputs": [],
   "source": [
    "import numpy as np\n",
    "import pandas as pd\n",
    "from matplotlib import pyplot as plt\n",
    "from typing import List\n",
    "from pydantic import BaseModel\n",
    "from sklearn.linear_model import LinearRegression"
   ]
  },
  {
   "cell_type": "code",
   "execution_count": 5,
   "metadata": {},
   "outputs": [],
   "source": [
    "\n",
    "from math import e\n",
    "\n",
    "\n",
    "def plot_wrapper(x_vals: np.array, y_vals: np.array):\n",
    "    plt.figure()\n",
    "    plt.grid()\n",
    "    plt.xlabel(\"U[V]\")\n",
    "    plt.ylabel(\"I[A]\")\n",
    "    plt.errorbar(x_vals, y_vals, xerr=e, fmt=\"x\")\n",
    "\n",
    "    x_regr = x_vals[30:]\n",
    "    y_regr = y_vals[30:]\n",
    "\n",
    "    print(x_regr, y_regr)\n",
    "\n",
    "    x = x_regr.reshape(len(x_regr), 1)\n",
    "    y = y_regr.reshape(len(y_regr), 1)\n",
    "\n",
    "\n",
    "    regr = LinearRegression()\n",
    "    regr.fit(x, y)\n",
    "    print(regr.intercept_, regr.coef_, regr.score(x, y))\n",
    "\n",
    "    plt.plot(x, regr.predict(x), color='blue', linewidth=3)"
   ]
  },
  {
   "cell_type": "code",
   "execution_count": 9,
   "metadata": {},
   "outputs": [
    {
     "name": "stdout",
     "output_type": "stream",
     "text": [
      "        U          I\n",
      "0       0  -0.010000\n",
      "1   -4375 -50.680000\n",
      "2     -19  -0.010000\n",
      "3     -25  -0.010000\n",
      "4     -34  -0.010000\n",
      "..    ...        ...\n",
      "389 -4103 -24.440001\n",
      "390 -4145 -27.309999\n",
      "391 -4145 -27.299999\n",
      "392 -4145 -27.299999\n",
      "393 -4145 -27.299999\n",
      "\n",
      "[394 rows x 2 columns]\n"
     ]
    },
    {
     "data": {
      "text/plain": [
       "<ErrorbarContainer object of 3 artists>"
      ]
     },
     "execution_count": 9,
     "metadata": {},
     "output_type": "execute_result"
    },
    {
     "data": {
      "image/png": "[encoded data removed]",
      "text/plain": [
       "<Figure size 640x480 with 1 Axes>"
      ]
     },
     "metadata": {},
     "output_type": "display_data"
    }
   ],
   "source": [
    "data = pd.read_csv(\"../data/multimeter_data/zener-z-4-sanitized.csv\", index_col=False, header=0)\n",
    "data_2 = pd.read_csv(\"../data/multimeter_data/zener-p-4-sanitized.csv\", index_col=False, header=0)\n",
    "print(data)\n",
    "\n",
    "x = data.iloc[::15, :][\"U\"].values\n",
    "y = data.iloc[::15, :][\"I\"].values\n",
    "\n",
    "x2 = data_2.iloc[::15, :][\"U\"].values\n",
    "y2 = data_2.iloc[::15, :][\"I\"].values\n",
    "\n",
    "plt.figure()\n",
    "plt.grid()\n",
    "plt.xlabel(\"U[V]\")\n",
    "plt.ylabel(\"I[A]\")\n",
    "plt.errorbar(x, y, xerr=e, fmt=\"x\")\n",
    "plt.errorbar(x2, y2, xerr=e, fmt=\"x\")\n",
    "\n",
    "# x_regr = x_vals[30:]\n",
    "# y_regr = y_vals[30:]\n",
    "\n",
    "# print(x_regr, y_regr)\n",
    "\n",
    "# x = x_regr.reshape(len(x_regr), 1)\n",
    "# y = y_regr.reshape(len(y_regr), 1)\n",
    "\n",
    "\n",
    "# regr = LinearRegression()\n",
    "# regr.fit(x, y)\n",
    "# print(regr.intercept_, regr.coef_, regr.score(x, y))\n",
    "\n",
    "# plt.plot(x, regr.predict(x), color='blue', linewidth=3)\n",
    "\n",
    "\n",
    "# plot it as in the example at http://scikit-learn.org/\n",
    "\n",
    "\n",
    "\n",
    "# plt.scatter(x, y,  color='black')\n",
    "# plt.plot(x, regr.predict(x), color='blue', linewidth=3)\n",
    "# plt.xticks(())\n",
    "# plt.yticks(())\n",
    "# plt.show()"
   ]
  }
 ],
 "metadata": {
  "kernelspec": {
   "display_name": "data",
   "language": "python",
   "name": "python3"
  },
  "language_info": {
   "codemirror_mode": {
    "name": "ipython",
    "version": 3
   },
   "file_extension": ".py",
   "mimetype": "text/x-python",
   "name": "python",
   "nbconvert_exporter": "python",
   "pygments_lexer": "ipython3",
   "version": "3.11.0"
  },
  "orig_nbformat": 4
 },
 "nbformat": 4,
 "nbformat_minor": 2
}
