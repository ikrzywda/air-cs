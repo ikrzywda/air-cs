{
 "cells": [
  {
   "cell_type": "code",
   "execution_count": 1,
   "metadata": {},
   "outputs": [],
   "source": [
    "import numpy as np\n",
    "import pandas as pd\n",
    "from matplotlib import pyplot as plt\n",
    "from typing import List\n",
    "from pydantic import BaseModel\n",
    "from sklearn.linear_model import LinearRegression"
   ]
  },
  {
   "cell_type": "code",
   "execution_count": 38,
   "metadata": {},
   "outputs": [
    {
     "ename": "SyntaxError",
     "evalue": "invalid syntax (1746569288.py, line 22)",
     "output_type": "error",
     "traceback": [
      "\u001b[0;36m  Cell \u001b[0;32mIn[38], line 22\u001b[0;36m\u001b[0m\n\u001b[0;31m    print(regr., regr.coef_, regr.score(x, y))\u001b[0m\n\u001b[0m               ^\u001b[0m\n\u001b[0;31mSyntaxError\u001b[0m\u001b[0;31m:\u001b[0m invalid syntax\n"
     ]
    }
   ],
   "source": [
    "\n",
    "from math import e\n",
    "\n",
    "\n",
    "def plot_wrapper(x_vals: np.array, y_vals: np.array):\n",
    "    plt.figure()\n",
    "    plt.grid()\n",
    "    plt.xlabel(\"U[V]\")\n",
    "    plt.ylabel(\"I[A]\")\n",
    "    plt.errorbar(x_vals, y_vals, xerr=e, fmt=\"x\")\n",
    "\n",
    "    x_regr = x_vals[30:]\n",
    "    y_regr = y_vals[30:]\n",
    "\n",
    "    print(x_regr, y_regr)\n",
    "\n",
    "    x = x_regr.reshape(len(x_regr), 1)\n",
    "    y = y_regr.reshape(len(y_regr), 1)\n",
    "\n",
    "\n",
    "    regr = LinearRegression()\n",
    "    regr.fit(x, y)\n",
    "    print(regr.intercept_, regr.coef_, regr.score(x, y))\n",
    "\n",
    "    plt.plot(x, regr.predict(x), color='blue', linewidth=3)"
   ]
  },
  {
   "cell_type": "code",
   "execution_count": 37,
   "metadata": {},
   "outputs": [
    {
     "name": "stdout",
     "output_type": "stream",
     "text": [
      "       U          I\n",
      "0      0  -0.010000\n",
      "1    861  96.300003\n",
      "2     25  -0.010000\n",
      "3     28  -0.010000\n",
      "4     29  -0.010000\n",
      "..   ...        ...\n",
      "517  858  96.000000\n",
      "518  858  96.400002\n",
      "519  858  96.900002\n",
      "520  858  97.000000\n",
      "521  858  97.000000\n",
      "\n",
      "[522 rows x 2 columns]\n",
      "[844 847 851 854 857] [66.40000153 71.59999847 79.09999847 85.19999695 92.5       ]\n"
     ]
    },
    {
     "ename": "AttributeError",
     "evalue": "'LinearRegression' object has no attribute 'intercept_'",
     "output_type": "error",
     "traceback": [
      "\u001b[0;31m---------------------------------------------------------------------------\u001b[0m",
      "\u001b[0;31mAttributeError\u001b[0m                            Traceback (most recent call last)",
      "Cell \u001b[0;32mIn[37], line 7\u001b[0m\n\u001b[1;32m      4\u001b[0m x \u001b[39m=\u001b[39m data\u001b[39m.\u001b[39miloc[::\u001b[39m15\u001b[39m, :][\u001b[39m\"\u001b[39m\u001b[39mU\u001b[39m\u001b[39m\"\u001b[39m]\u001b[39m.\u001b[39mvalues\n\u001b[1;32m      5\u001b[0m y \u001b[39m=\u001b[39m data\u001b[39m.\u001b[39miloc[::\u001b[39m15\u001b[39m, :][\u001b[39m\"\u001b[39m\u001b[39mI\u001b[39m\u001b[39m\"\u001b[39m]\u001b[39m.\u001b[39mvalues\n\u001b[0;32m----> 7\u001b[0m plot_wrapper(x, y)\n\u001b[1;32m     11\u001b[0m \u001b[39m# plot it as in the example at http://scikit-learn.org/\u001b[39;00m\n\u001b[1;32m     12\u001b[0m \n\u001b[1;32m     13\u001b[0m \n\u001b[0;32m   (...)\u001b[0m\n\u001b[1;32m     18\u001b[0m \u001b[39m# plt.yticks(())\u001b[39;00m\n\u001b[1;32m     19\u001b[0m \u001b[39m# plt.show()\u001b[39;00m\n",
      "Cell \u001b[0;32mIn[35], line 21\u001b[0m, in \u001b[0;36mplot_wrapper\u001b[0;34m(x_vals, y_vals)\u001b[0m\n\u001b[1;32m     17\u001b[0m y \u001b[39m=\u001b[39m y_regr\u001b[39m.\u001b[39mreshape(\u001b[39mlen\u001b[39m(y_regr), \u001b[39m1\u001b[39m)\n\u001b[1;32m     20\u001b[0m regr \u001b[39m=\u001b[39m LinearRegression()\n\u001b[0;32m---> 21\u001b[0m \u001b[39mprint\u001b[39m(regr\u001b[39m.\u001b[39;49mintercept_, regr\u001b[39m.\u001b[39mcoef_, regr\u001b[39m.\u001b[39mscore(x, y))\n\u001b[1;32m     22\u001b[0m regr\u001b[39m.\u001b[39mfit(x, y)\n\u001b[1;32m     24\u001b[0m plt\u001b[39m.\u001b[39mplot(x, regr\u001b[39m.\u001b[39mpredict(x), color\u001b[39m=\u001b[39m\u001b[39m'\u001b[39m\u001b[39mblue\u001b[39m\u001b[39m'\u001b[39m, linewidth\u001b[39m=\u001b[39m\u001b[39m3\u001b[39m)\n",
      "\u001b[0;31mAttributeError\u001b[0m: 'LinearRegression' object has no attribute 'intercept_'"
     ]
    },
    {
     "data": {
      "image/png": "[encoded data removed]",
      "text/plain": [
       "<Figure size 640x480 with 1 Axes>"
      ]
     },
     "metadata": {},
     "output_type": "display_data"
    }
   ],
   "source": [
    "data = pd.read_csv(\"../data/multimeter_data/zener-p-4-sanitized.csv\", index_col=False, header=0)\n",
    "print(data)\n",
    "\n",
    "x = data.iloc[::15, :][\"U\"].values\n",
    "y = data.iloc[::15, :][\"I\"].values\n",
    "\n",
    "plot_wrapper(x, y)\n",
    "\n",
    "\n",
    "\n",
    "# plot it as in the example at http://scikit-learn.org/\n",
    "\n",
    "\n",
    "\n",
    "# plt.scatter(x, y,  color='black')\n",
    "# plt.plot(x, regr.predict(x), color='blue', linewidth=3)\n",
    "# plt.xticks(())\n",
    "# plt.yticks(())\n",
    "# plt.show()"
   ]
  }
 ],
 "metadata": {
  "kernelspec": {
   "display_name": "data",
   "language": "python",
   "name": "python3"
  },
  "language_info": {
   "codemirror_mode": {
    "name": "ipython",
    "version": 3
   },
   "file_extension": ".py",
   "mimetype": "text/x-python",
   "name": "python",
   "nbconvert_exporter": "python",
   "pygments_lexer": "ipython3",
   "version": "3.11.0"
  },
  "orig_nbformat": 4
 },
 "nbformat": 4,
 "nbformat_minor": 2
}
