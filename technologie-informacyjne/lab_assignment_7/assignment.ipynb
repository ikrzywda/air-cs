{
 "cells": [
  {
   "cell_type": "code",
   "execution_count": 1,
   "metadata": {},
   "outputs": [],
   "source": [
    "import numpy as np\n",
    "import pandas as pd\n",
    "import matplotlib as plt"
   ]
  },
  {
   "cell_type": "code",
   "execution_count": 5,
   "metadata": {},
   "outputs": [
    {
     "name": "stdout",
     "output_type": "stream",
     "text": [
      "     Unnamed: 0  indeks_studenta  ocena_lab  ocena_wyk\n",
      "0             0           962560        5.0        3.0\n",
      "1             1           905220        2.0        4.5\n",
      "2             2           882698        2.0        3.5\n",
      "3             3           856084        3.5        2.5\n",
      "4             4           909337        4.0        5.0\n",
      "..          ...              ...        ...        ...\n",
      "493         493           909272        5.0        3.5\n",
      "494         494           860148        4.0        2.0\n",
      "495         495           919541        2.0        4.0\n",
      "496         496           915447        4.5        4.0\n",
      "497         497           905212        4.0        5.0\n",
      "\n",
      "[498 rows x 4 columns]\n",
      "3.4546184738955823\n"
     ]
    }
   ],
   "source": [
    "dataframe = pd.read_csv(\"data.csv\")\n",
    "print(dataframe)"
   ]
  },
  {
   "cell_type": "code",
   "execution_count": 18,
   "metadata": {},
   "outputs": [
    {
     "name": "stdout",
     "output_type": "stream",
     "text": [
      "[4.  3.5 3.  3.  4.5 3.5 3.  3.  3.  3.5 3.  3.  4.5 4.  3.5 5.  4.5 2.5\n",
      " 3.5 4.5 4.  4.  3.5 4.  4.5 3.5 2.  3.5 2.5 4.  3.5 4.5 3.  4.  2.  4.\n",
      " 4.  5.  3.5 2.5 3.  3.5 4.  3.  4.5 3.  4.5 3.5 3.  4.  4.5 2.5 4.  3.\n",
      " 4.5 3.  3.5 2.5 3.5 3.  4.  3.5 3.  4.  4.  4.  4.5 3.5 2.5 3.  5.  3.\n",
      " 4.  3.  3.  4.  3.  3.  3.  2.5 4.  2.5 5.  4.5 2.5 2.5 4.  2.5 4.  4.5\n",
      " 4.  3.5 4.  2.5 4.  3.  4.5 3.5 5.  3.  3.  2.5 3.  3.5 3.5 4.  3.5 3.\n",
      " 3.  4.5 4.  3.5 4.5 4.  4.  2.5 4.5 4.  4.  3.5 3.  3.5 3.  3.  2.5 3.5\n",
      " 3.5 3.5 4.  3.5 5.  3.  3.  3.  2.5 4.  3.5 4.  4.5 4.  4.  4.  3.  3.\n",
      " 3.  2.5 5.  3.5 4.5 3.5 4.5 3.  4.5 3.  3.5 2.  2.  3.  2.  3.  4.  2.5\n",
      " 4.  3.5 3.5 2.5 4.  2.5 4.  2.5 3.  5.  2.5 3.5 3.5 2.5 2.  4.  5.  3.\n",
      " 5.  3.  3.5 4.  4.5 4.5 5.  3.5 3.  3.5 4.  3.5 3.  4.  4.5 3.  4.  3.5\n",
      " 3.  4.  2.  3.  3.  4.  4.  2.5 3.  3.  4.  3.  5.  2.5 3.5 3.  2.5 4.\n",
      " 3.5 3.5 4.5 2.5 2.  3.  3.5 3.  3.  3.  4.  4.  3.5 3.5 4.  3.  4.  3.\n",
      " 4.5 3.  3.5 3.5 3.  2.  2.5 3.5 3.5 4.  3.5 5.  2.5 4.  2.5 3.5 3.5 4.\n",
      " 3.  2.5 2.5 3.  3.  3.  3.  4.  3.  3.5 2.  4.  3.  4.  3.  3.  3.5 3.\n",
      " 4.5 2.5 4.  4.  3.5 3.5 3.  4.  3.  3.  3.  2.  3.5 3.  3.5 2.5 4.  4.5\n",
      " 3.  4.  3.  3.  4.5 4.5 4.5 3.5 3.5 3.  2.5 4.5 4.  3.  3.5 3.5 4.  3.5\n",
      " 4.  2.5 3.5 3.  3.5 4.  4.  3.5 3.5 4.  4.5 4.5 4.  3.5 3.  3.5 2.5 2.5\n",
      " 2.  4.5 3.  3.  4.5 3.  2.5 2.5 4.5 4.  4.  2.5 5.  2.5 4.  3.5 4.  3.\n",
      " 2.5 3.  3.5 2.5 3.  3.  3.  3.5 2.5 2.  2.  5.  3.  4.  4.  2.5 4.5 3.\n",
      " 4.  2.5 4.5 3.5 2.5 3.5 3.  4.  4.  4.5 3.  5.  2.5 4.  3.5 5.  3.  4.\n",
      " 4.  4.  2.5 2.5 2.  3.  4.  3.5 2.  2.5 4.5 3.5 4.  3.  3.5 4.  3.5 2.5\n",
      " 2.5 4.  4.  3.5 4.  4.  4.  3.5 2.5 5.  3.5 3.  4.  3.5 4.5 4.  3.5 4.5\n",
      " 5.  3.  4.5 3.5 2.  3.  3.  3.  3.  3.  3.5 3.  2.  4.  5.  4.  2.  2.\n",
      " 2.5 3.  3.5 4.5 3.5 3.  3.  4.  3.5 3.5 3.5 5.  4.5 3.  3.  4.  4.  4.\n",
      " 3.5 3.  4.  4.  4.  3.  3.  5.  4.  2.5 2.5 3.  3.  4.  3.  2.5 2.5 4.\n",
      " 4.5 3.5 3.5 2.5 3.5 3.  2.5 3.5 4.  4.  2.5 3.  3.5 4.  2.5 2.5 4.  4.\n",
      " 3.5 3.5 5.  3.5 2.5 2.5 4.5 4.  3.  3.  4.  4.5]\n"
     ]
    }
   ],
   "source": [
    "lecture_grades = dataframe[\"ocena_wyk\"]\n",
    "lab_grades = dataframe[\"ocena_lab\"]\n",
    "\n",
    "\n",
    "end_grades = np.array([round((0.6 * lec + 0.4 * lab) * 2) / 2 for lec, lab in zip(lecture_grades, lab_grades)])\n",
    "end_grades = np.array([grade if grade > 2 else 2 for grade in end_grades])\n",
    "\n",
    "mean = end_grades.mean()\n",
    "print(end_grades)"
   ]
  },
  {
   "cell_type": "code",
   "execution_count": 19,
   "metadata": {},
   "outputs": [
    {
     "name": "stdout",
     "output_type": "stream",
     "text": [
      "{2.0: 20, 2.5: 67, 3.0: 123, 3.5: 102, 4.0: 114, 4.5: 49, 5.0: 23, 5.5: 0}\n"
     ]
    }
   ],
   "source": [
    "grades = {2 + 0.5 * x : 0 for x in range(8)}\n",
    "\n",
    "for grade in end_grades:\n",
    "    grades[grade] += 1\n",
    "print(grades)"
   ]
  },
  {
   "cell_type": "code",
   "execution_count": 28,
   "metadata": {},
   "outputs": [
    {
     "name": "stdout",
     "output_type": "stream",
     "text": [
      "478\n"
     ]
    }
   ],
   "source": [
    "passed_count = 0\n",
    "for key, value in {key : value for key, value in grades.items() if key > 2}.items():\n",
    "    passed_count += value\n",
    "print(passed_count)"
   ]
  },
  {
   "cell_type": "code",
   "execution_count": 31,
   "metadata": {},
   "outputs": [
    {
     "name": "stdout",
     "output_type": "stream",
     "text": [
      "20\n"
     ]
    }
   ],
   "source": [
    "failed_count = len(end_grades) -  passed_count\n",
    "print(failed_count)"
   ]
  },
  {
   "cell_type": "code",
   "execution_count": 38,
   "metadata": {},
   "outputs": [],
   "source": [
    "data = {**{key: [value] for key, value in grades.items()}, \"mean\": [mean], \"passed\": [passed_count], \"failed\": [failed_count]}\n",
    "df = pd.DataFrame(data)\n",
    "df.to_csv(\"out.csv\")"
   ]
  },
  {
   "cell_type": "code",
   "execution_count": null,
   "metadata": {},
   "outputs": [],
   "source": []
  },
  {
   "cell_type": "code",
   "execution_count": null,
   "metadata": {},
   "outputs": [],
   "source": []
  },
  {
   "cell_type": "code",
   "execution_count": null,
   "metadata": {},
   "outputs": [],
   "source": []
  },
  {
   "cell_type": "code",
   "execution_count": null,
   "metadata": {},
   "outputs": [],
   "source": []
  },
  {
   "cell_type": "code",
   "execution_count": null,
   "metadata": {},
   "outputs": [],
   "source": []
  }
 ],
 "metadata": {
  "kernelspec": {
   "display_name": "laby",
   "language": "python",
   "name": "python3"
  },
  "language_info": {
   "codemirror_mode": {
    "name": "ipython",
    "version": 3
   },
   "file_extension": ".py",
   "mimetype": "text/x-python",
   "name": "python",
   "nbconvert_exporter": "python",
   "pygments_lexer": "ipython3",
   "version": "3.10.6"
  },
  "orig_nbformat": 4,
  "vscode": {
   "interpreter": {
    "hash": "0bd8afd9b71a091f2aef8658eef32a8925299151f29680775367af7620e6c12a"
   }
  }
 },
 "nbformat": 4,
 "nbformat_minor": 2
}
